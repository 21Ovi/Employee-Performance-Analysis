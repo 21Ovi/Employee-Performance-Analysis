{
  "nbformat": 4,
  "nbformat_minor": 0,
  "metadata": {
    "colab": {
      "provenance": [],
      "authorship_tag": "ABX9TyNAHZ+Zbdht1HJFOHp55r7q",
      "include_colab_link": true
    },
    "kernelspec": {
      "name": "python3",
      "display_name": "Python 3"
    },
    "language_info": {
      "name": "python"
    }
  },
  "cells": [
    {
      "cell_type": "markdown",
      "metadata": {
        "id": "view-in-github",
        "colab_type": "text"
      },
      "source": [
        "<a href=\"https://colab.research.google.com/github/21Ovi/Employee-Performance-Analysis/blob/main/Project_Summary.ipynb\" target=\"_parent\"><img src=\"https://colab.research.google.com/assets/colab-badge.svg\" alt=\"Open In Colab\"/></a>"
      ]
    },
    {
      "cell_type": "markdown",
      "source": [
        "# Employee Performance Analysis\n",
        "\n",
        "### INX Future Inc\n",
        "\n",
        "> * Candidate Name      : Mohammad Ovesh Ansari\n",
        "> * Candidate E-Mail    : ansariovesh@yahoo.in\n",
        "> * Project Code        : 10281\n",
        "> * REP Name            : DataMites™ Solutions Pvt Ltd\n",
        "> * Assesment ID        : E10901-PR2-V18\n",
        "> * Module              : Certified Data Scientist - Project\n",
        "> * Exam Format         : Open Project- IABAC™ Project Submission\n",
        "> * Project Assessment  : IABAC™ \n",
        "> * Registered Trainer  : Ashok Kumar A\n",
        "> * Submission Deadline Date:   12-Jan-2023 "
      ],
      "metadata": {
        "id": "5PLi9DCgoJvj"
      }
    },
    {
      "cell_type": "markdown",
      "source": [
        "# Project Summary\n",
        "\n",
        "**INX Future Inc Employee Performance - Project**\n",
        "\n",
        "The Data science project which is given here is an analysis of employee performance. The goal of the project is to find the performance rating of the employees depending on features of the data, Such as TotalWorkExperienceInYears, EmpDepartment, Gender ExperienceYearsInCurrentRole etc.,\n",
        "The Goal and Insights of the project are as follows:\n"
      ],
      "metadata": {
        "id": "CZMZ2xSRp2sn"
      }
    },
    {
      "cell_type": "code",
      "source": [],
      "metadata": {
        "id": "oUHwFwBGspam"
      },
      "execution_count": null,
      "outputs": []
    }
  ]
}