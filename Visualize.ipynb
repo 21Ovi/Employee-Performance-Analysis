{
  "nbformat": 4,
  "nbformat_minor": 0,
  "metadata": {
    "colab": {
      "provenance": [],
      "authorship_tag": "ABX9TyPn1ahEOcvwqakX49zh68qv",
      "include_colab_link": true
    },
    "kernelspec": {
      "name": "python3",
      "display_name": "Python 3"
    },
    "language_info": {
      "name": "python"
    }
  },
  "cells": [
    {
      "cell_type": "markdown",
      "metadata": {
        "id": "view-in-github",
        "colab_type": "text"
      },
      "source": [
        "<a href=\"https://colab.research.google.com/github/21Ovi/Employee-Performance-Analysis/blob/main/Visualize.ipynb\" target=\"_parent\"><img src=\"https://colab.research.google.com/assets/colab-badge.svg\" alt=\"Open In Colab\"/></a>"
      ]
    },
    {
      "cell_type": "code",
      "source": [
        "# Below code is for getting figure in center alignment\n",
        "from IPython.core.display import HTML\n",
        "HTML(\"\"\"\n",
        "\n",
        ".output_png {\n",
        "    display: table-cell;\n",
        "    text-align: center;\n",
        "    vertical-align: middle;\n",
        "}\n",
        "\n",
        "\"\"\")"
      ],
      "metadata": {
        "colab": {
          "base_uri": "https://localhost:8080/",
          "height": 34
        },
        "id": "jOQJ9gy4Fxd5",
        "outputId": "8b41f5e9-7e91-4e91-fdec-69249c8df7a4"
      },
      "execution_count": 21,
      "outputs": [
        {
          "output_type": "execute_result",
          "data": {
            "text/plain": [
              "<IPython.core.display.HTML object>"
            ],
            "text/html": [
              "\n",
              "\n",
              ".output_png {\n",
              "    display: table-cell;\n",
              "    text-align: center;\n",
              "    vertical-align: middle;\n",
              "}\n",
              "\n"
            ]
          },
          "metadata": {},
          "execution_count": 21
        }
      ]
    },
    {
      "cell_type": "markdown",
      "source": [
        "# Imports"
      ],
      "metadata": {
        "id": "ABtpguGZujkx"
      }
    },
    {
      "cell_type": "code",
      "execution_count": 2,
      "metadata": {
        "id": "2LUz9JA3ub2n"
      },
      "outputs": [],
      "source": [
        "import numpy as np\n",
        "import pandas as pd\n",
        "import matplotlib.pyplot as plt\n",
        "import seaborn as sns\n",
        "import plotly.express as px\n",
        "\n",
        "# Avoiding warnings\n",
        "import warnings\n",
        "warnings.filterwarnings('ignore')"
      ]
    },
    {
      "cell_type": "markdown",
      "source": [
        "## Reading data"
      ],
      "metadata": {
        "id": "ENJazFr5vGq9"
      }
    },
    {
      "cell_type": "code",
      "source": [
        "data = pd.read_excel('/content/INX_Future_Inc_Employee_Performance_CDS_Project2_Data_V1.8.xls', index_col=0)\n",
        "data.head()"
      ],
      "metadata": {
        "colab": {
          "base_uri": "https://localhost:8080/",
          "height": 418
        },
        "id": "Dwx7izK1u3Yf",
        "outputId": "4971bd46-2b51-42ae-ea0c-e497cf3a3091"
      },
      "execution_count": 3,
      "outputs": [
        {
          "output_type": "execute_result",
          "data": {
            "text/plain": [
              "           Age Gender EducationBackground MaritalStatus    EmpDepartment  \\\n",
              "EmpNumber                                                                  \n",
              "E1001000    32   Male           Marketing        Single            Sales   \n",
              "E1001006    47   Male           Marketing        Single            Sales   \n",
              "E1001007    40   Male       Life Sciences       Married            Sales   \n",
              "E1001009    41   Male     Human Resources      Divorced  Human Resources   \n",
              "E1001010    60   Male           Marketing        Single            Sales   \n",
              "\n",
              "                EmpJobRole BusinessTravelFrequency  DistanceFromHome  \\\n",
              "EmpNumber                                                              \n",
              "E1001000   Sales Executive           Travel_Rarely                10   \n",
              "E1001006   Sales Executive           Travel_Rarely                14   \n",
              "E1001007   Sales Executive       Travel_Frequently                 5   \n",
              "E1001009           Manager           Travel_Rarely                10   \n",
              "E1001010   Sales Executive           Travel_Rarely                16   \n",
              "\n",
              "           EmpEducationLevel  EmpEnvironmentSatisfaction  ...  \\\n",
              "EmpNumber                                                 ...   \n",
              "E1001000                   3                           4  ...   \n",
              "E1001006                   4                           4  ...   \n",
              "E1001007                   4                           4  ...   \n",
              "E1001009                   4                           2  ...   \n",
              "E1001010                   4                           1  ...   \n",
              "\n",
              "           EmpRelationshipSatisfaction  TotalWorkExperienceInYears  \\\n",
              "EmpNumber                                                            \n",
              "E1001000                             4                          10   \n",
              "E1001006                             4                          20   \n",
              "E1001007                             3                          20   \n",
              "E1001009                             2                          23   \n",
              "E1001010                             4                          10   \n",
              "\n",
              "           TrainingTimesLastYear  EmpWorkLifeBalance  \\\n",
              "EmpNumber                                              \n",
              "E1001000                       2                   2   \n",
              "E1001006                       2                   3   \n",
              "E1001007                       2                   3   \n",
              "E1001009                       2                   2   \n",
              "E1001010                       1                   3   \n",
              "\n",
              "           ExperienceYearsAtThisCompany ExperienceYearsInCurrentRole  \\\n",
              "EmpNumber                                                              \n",
              "E1001000                             10                            7   \n",
              "E1001006                              7                            7   \n",
              "E1001007                             18                           13   \n",
              "E1001009                             21                            6   \n",
              "E1001010                              2                            2   \n",
              "\n",
              "           YearsSinceLastPromotion  YearsWithCurrManager  Attrition  \\\n",
              "EmpNumber                                                             \n",
              "E1001000                         0                     8         No   \n",
              "E1001006                         1                     7         No   \n",
              "E1001007                         1                    12         No   \n",
              "E1001009                        12                     6         No   \n",
              "E1001010                         2                     2         No   \n",
              "\n",
              "           PerformanceRating  \n",
              "EmpNumber                     \n",
              "E1001000                   3  \n",
              "E1001006                   3  \n",
              "E1001007                   4  \n",
              "E1001009                   3  \n",
              "E1001010                   3  \n",
              "\n",
              "[5 rows x 27 columns]"
            ],
            "text/html": [
              "\n",
              "  <div id=\"df-2abc578a-1df6-472c-9864-5c9cfeb8fa2b\">\n",
              "    <div class=\"colab-df-container\">\n",
              "      <div>\n",
              "<style scoped>\n",
              "    .dataframe tbody tr th:only-of-type {\n",
              "        vertical-align: middle;\n",
              "    }\n",
              "\n",
              "    .dataframe tbody tr th {\n",
              "        vertical-align: top;\n",
              "    }\n",
              "\n",
              "    .dataframe thead th {\n",
              "        text-align: right;\n",
              "    }\n",
              "</style>\n",
              "<table border=\"1\" class=\"dataframe\">\n",
              "  <thead>\n",
              "    <tr style=\"text-align: right;\">\n",
              "      <th></th>\n",
              "      <th>Age</th>\n",
              "      <th>Gender</th>\n",
              "      <th>EducationBackground</th>\n",
              "      <th>MaritalStatus</th>\n",
              "      <th>EmpDepartment</th>\n",
              "      <th>EmpJobRole</th>\n",
              "      <th>BusinessTravelFrequency</th>\n",
              "      <th>DistanceFromHome</th>\n",
              "      <th>EmpEducationLevel</th>\n",
              "      <th>EmpEnvironmentSatisfaction</th>\n",
              "      <th>...</th>\n",
              "      <th>EmpRelationshipSatisfaction</th>\n",
              "      <th>TotalWorkExperienceInYears</th>\n",
              "      <th>TrainingTimesLastYear</th>\n",
              "      <th>EmpWorkLifeBalance</th>\n",
              "      <th>ExperienceYearsAtThisCompany</th>\n",
              "      <th>ExperienceYearsInCurrentRole</th>\n",
              "      <th>YearsSinceLastPromotion</th>\n",
              "      <th>YearsWithCurrManager</th>\n",
              "      <th>Attrition</th>\n",
              "      <th>PerformanceRating</th>\n",
              "    </tr>\n",
              "    <tr>\n",
              "      <th>EmpNumber</th>\n",
              "      <th></th>\n",
              "      <th></th>\n",
              "      <th></th>\n",
              "      <th></th>\n",
              "      <th></th>\n",
              "      <th></th>\n",
              "      <th></th>\n",
              "      <th></th>\n",
              "      <th></th>\n",
              "      <th></th>\n",
              "      <th></th>\n",
              "      <th></th>\n",
              "      <th></th>\n",
              "      <th></th>\n",
              "      <th></th>\n",
              "      <th></th>\n",
              "      <th></th>\n",
              "      <th></th>\n",
              "      <th></th>\n",
              "      <th></th>\n",
              "      <th></th>\n",
              "    </tr>\n",
              "  </thead>\n",
              "  <tbody>\n",
              "    <tr>\n",
              "      <th>E1001000</th>\n",
              "      <td>32</td>\n",
              "      <td>Male</td>\n",
              "      <td>Marketing</td>\n",
              "      <td>Single</td>\n",
              "      <td>Sales</td>\n",
              "      <td>Sales Executive</td>\n",
              "      <td>Travel_Rarely</td>\n",
              "      <td>10</td>\n",
              "      <td>3</td>\n",
              "      <td>4</td>\n",
              "      <td>...</td>\n",
              "      <td>4</td>\n",
              "      <td>10</td>\n",
              "      <td>2</td>\n",
              "      <td>2</td>\n",
              "      <td>10</td>\n",
              "      <td>7</td>\n",
              "      <td>0</td>\n",
              "      <td>8</td>\n",
              "      <td>No</td>\n",
              "      <td>3</td>\n",
              "    </tr>\n",
              "    <tr>\n",
              "      <th>E1001006</th>\n",
              "      <td>47</td>\n",
              "      <td>Male</td>\n",
              "      <td>Marketing</td>\n",
              "      <td>Single</td>\n",
              "      <td>Sales</td>\n",
              "      <td>Sales Executive</td>\n",
              "      <td>Travel_Rarely</td>\n",
              "      <td>14</td>\n",
              "      <td>4</td>\n",
              "      <td>4</td>\n",
              "      <td>...</td>\n",
              "      <td>4</td>\n",
              "      <td>20</td>\n",
              "      <td>2</td>\n",
              "      <td>3</td>\n",
              "      <td>7</td>\n",
              "      <td>7</td>\n",
              "      <td>1</td>\n",
              "      <td>7</td>\n",
              "      <td>No</td>\n",
              "      <td>3</td>\n",
              "    </tr>\n",
              "    <tr>\n",
              "      <th>E1001007</th>\n",
              "      <td>40</td>\n",
              "      <td>Male</td>\n",
              "      <td>Life Sciences</td>\n",
              "      <td>Married</td>\n",
              "      <td>Sales</td>\n",
              "      <td>Sales Executive</td>\n",
              "      <td>Travel_Frequently</td>\n",
              "      <td>5</td>\n",
              "      <td>4</td>\n",
              "      <td>4</td>\n",
              "      <td>...</td>\n",
              "      <td>3</td>\n",
              "      <td>20</td>\n",
              "      <td>2</td>\n",
              "      <td>3</td>\n",
              "      <td>18</td>\n",
              "      <td>13</td>\n",
              "      <td>1</td>\n",
              "      <td>12</td>\n",
              "      <td>No</td>\n",
              "      <td>4</td>\n",
              "    </tr>\n",
              "    <tr>\n",
              "      <th>E1001009</th>\n",
              "      <td>41</td>\n",
              "      <td>Male</td>\n",
              "      <td>Human Resources</td>\n",
              "      <td>Divorced</td>\n",
              "      <td>Human Resources</td>\n",
              "      <td>Manager</td>\n",
              "      <td>Travel_Rarely</td>\n",
              "      <td>10</td>\n",
              "      <td>4</td>\n",
              "      <td>2</td>\n",
              "      <td>...</td>\n",
              "      <td>2</td>\n",
              "      <td>23</td>\n",
              "      <td>2</td>\n",
              "      <td>2</td>\n",
              "      <td>21</td>\n",
              "      <td>6</td>\n",
              "      <td>12</td>\n",
              "      <td>6</td>\n",
              "      <td>No</td>\n",
              "      <td>3</td>\n",
              "    </tr>\n",
              "    <tr>\n",
              "      <th>E1001010</th>\n",
              "      <td>60</td>\n",
              "      <td>Male</td>\n",
              "      <td>Marketing</td>\n",
              "      <td>Single</td>\n",
              "      <td>Sales</td>\n",
              "      <td>Sales Executive</td>\n",
              "      <td>Travel_Rarely</td>\n",
              "      <td>16</td>\n",
              "      <td>4</td>\n",
              "      <td>1</td>\n",
              "      <td>...</td>\n",
              "      <td>4</td>\n",
              "      <td>10</td>\n",
              "      <td>1</td>\n",
              "      <td>3</td>\n",
              "      <td>2</td>\n",
              "      <td>2</td>\n",
              "      <td>2</td>\n",
              "      <td>2</td>\n",
              "      <td>No</td>\n",
              "      <td>3</td>\n",
              "    </tr>\n",
              "  </tbody>\n",
              "</table>\n",
              "<p>5 rows × 27 columns</p>\n",
              "</div>\n",
              "      <button class=\"colab-df-convert\" onclick=\"convertToInteractive('df-2abc578a-1df6-472c-9864-5c9cfeb8fa2b')\"\n",
              "              title=\"Convert this dataframe to an interactive table.\"\n",
              "              style=\"display:none;\">\n",
              "        \n",
              "  <svg xmlns=\"http://www.w3.org/2000/svg\" height=\"24px\"viewBox=\"0 0 24 24\"\n",
              "       width=\"24px\">\n",
              "    <path d=\"M0 0h24v24H0V0z\" fill=\"none\"/>\n",
              "    <path d=\"M18.56 5.44l.94 2.06.94-2.06 2.06-.94-2.06-.94-.94-2.06-.94 2.06-2.06.94zm-11 1L8.5 8.5l.94-2.06 2.06-.94-2.06-.94L8.5 2.5l-.94 2.06-2.06.94zm10 10l.94 2.06.94-2.06 2.06-.94-2.06-.94-.94-2.06-.94 2.06-2.06.94z\"/><path d=\"M17.41 7.96l-1.37-1.37c-.4-.4-.92-.59-1.43-.59-.52 0-1.04.2-1.43.59L10.3 9.45l-7.72 7.72c-.78.78-.78 2.05 0 2.83L4 21.41c.39.39.9.59 1.41.59.51 0 1.02-.2 1.41-.59l7.78-7.78 2.81-2.81c.8-.78.8-2.07 0-2.86zM5.41 20L4 18.59l7.72-7.72 1.47 1.35L5.41 20z\"/>\n",
              "  </svg>\n",
              "      </button>\n",
              "      \n",
              "  <style>\n",
              "    .colab-df-container {\n",
              "      display:flex;\n",
              "      flex-wrap:wrap;\n",
              "      gap: 12px;\n",
              "    }\n",
              "\n",
              "    .colab-df-convert {\n",
              "      background-color: #E8F0FE;\n",
              "      border: none;\n",
              "      border-radius: 50%;\n",
              "      cursor: pointer;\n",
              "      display: none;\n",
              "      fill: #1967D2;\n",
              "      height: 32px;\n",
              "      padding: 0 0 0 0;\n",
              "      width: 32px;\n",
              "    }\n",
              "\n",
              "    .colab-df-convert:hover {\n",
              "      background-color: #E2EBFA;\n",
              "      box-shadow: 0px 1px 2px rgba(60, 64, 67, 0.3), 0px 1px 3px 1px rgba(60, 64, 67, 0.15);\n",
              "      fill: #174EA6;\n",
              "    }\n",
              "\n",
              "    [theme=dark] .colab-df-convert {\n",
              "      background-color: #3B4455;\n",
              "      fill: #D2E3FC;\n",
              "    }\n",
              "\n",
              "    [theme=dark] .colab-df-convert:hover {\n",
              "      background-color: #434B5C;\n",
              "      box-shadow: 0px 1px 3px 1px rgba(0, 0, 0, 0.15);\n",
              "      filter: drop-shadow(0px 1px 2px rgba(0, 0, 0, 0.3));\n",
              "      fill: #FFFFFF;\n",
              "    }\n",
              "  </style>\n",
              "\n",
              "      <script>\n",
              "        const buttonEl =\n",
              "          document.querySelector('#df-2abc578a-1df6-472c-9864-5c9cfeb8fa2b button.colab-df-convert');\n",
              "        buttonEl.style.display =\n",
              "          google.colab.kernel.accessAllowed ? 'block' : 'none';\n",
              "\n",
              "        async function convertToInteractive(key) {\n",
              "          const element = document.querySelector('#df-2abc578a-1df6-472c-9864-5c9cfeb8fa2b');\n",
              "          const dataTable =\n",
              "            await google.colab.kernel.invokeFunction('convertToInteractive',\n",
              "                                                     [key], {});\n",
              "          if (!dataTable) return;\n",
              "\n",
              "          const docLinkHtml = 'Like what you see? Visit the ' +\n",
              "            '<a target=\"_blank\" href=https://colab.research.google.com/notebooks/data_table.ipynb>data table notebook</a>'\n",
              "            + ' to learn more about interactive tables.';\n",
              "          element.innerHTML = '';\n",
              "          dataTable['output_type'] = 'display_data';\n",
              "          await google.colab.output.renderOutput(dataTable, element);\n",
              "          const docLink = document.createElement('div');\n",
              "          docLink.innerHTML = docLinkHtml;\n",
              "          element.appendChild(docLink);\n",
              "        }\n",
              "      </script>\n",
              "    </div>\n",
              "  </div>\n",
              "  "
            ]
          },
          "metadata": {},
          "execution_count": 3
        }
      ]
    },
    {
      "cell_type": "markdown",
      "source": [
        "### Column names"
      ],
      "metadata": {
        "id": "hZKYdFpmEImo"
      }
    },
    {
      "cell_type": "code",
      "source": [
        "data.columns"
      ],
      "metadata": {
        "colab": {
          "base_uri": "https://localhost:8080/"
        },
        "id": "FpapSnwuELoU",
        "outputId": "dbe3b4a2-dfdd-42fa-9b8b-b53376d56be6"
      },
      "execution_count": 17,
      "outputs": [
        {
          "output_type": "execute_result",
          "data": {
            "text/plain": [
              "Index(['Age', 'Gender', 'EducationBackground', 'MaritalStatus',\n",
              "       'EmpDepartment', 'EmpJobRole', 'BusinessTravelFrequency',\n",
              "       'DistanceFromHome', 'EmpEducationLevel', 'EmpEnvironmentSatisfaction',\n",
              "       'EmpHourlyRate', 'EmpJobInvolvement', 'EmpJobLevel',\n",
              "       'EmpJobSatisfaction', 'NumCompaniesWorked', 'OverTime',\n",
              "       'EmpLastSalaryHikePercent', 'EmpRelationshipSatisfaction',\n",
              "       'TotalWorkExperienceInYears', 'TrainingTimesLastYear',\n",
              "       'EmpWorkLifeBalance', 'ExperienceYearsAtThisCompany',\n",
              "       'ExperienceYearsInCurrentRole', 'YearsSinceLastPromotion',\n",
              "       'YearsWithCurrManager', 'Attrition', 'PerformanceRating'],\n",
              "      dtype='object')"
            ]
          },
          "metadata": {},
          "execution_count": 17
        }
      ]
    },
    {
      "cell_type": "markdown",
      "source": [
        "## Data Insight"
      ],
      "metadata": {
        "id": "3Z0eMFJvvnCU"
      }
    },
    {
      "cell_type": "markdown",
      "source": [
        "### Employee Department Analysis"
      ],
      "metadata": {
        "id": "7sYlxwxWvqAM"
      }
    },
    {
      "cell_type": "code",
      "source": [
        "# Pie chart for employee department analysis\n",
        "percent_1=[]\n",
        "\n",
        "for i in data.EmpDepartment.value_counts():\n",
        "  percent_1.append(i)\n",
        "\n",
        "wedgeprops = {\"linewidth\": 0.1, \"width\": 1, \"edgecolor\":\"W\"}\n",
        "plt.figure(figsize = (10, 15))\n",
        "color = [\"#\",\"#\",\"#\",\"#\",\"#\",\"#\"]\n",
        "color = [\"#a0d6b4\",\"#ff6e4a\",\"#ff0000\",\"#f4a460\",\"#ffff66\",\"#adff2f\"]\n",
        "\n",
        "plt.pie(percent_1, labels=['Sales', 'Development', 'Research & Development', 'Human Resources', 'Finance', 'Data Science'],\n",
        "       explode = [0, 0, 0.08, 0.1, 0.1, 0.2],  autopct = \"%0.2f%%\", startangle = 46, shadow = True, pctdistance = 0.85,\n",
        "        wedgeprops = wedgeprops,textprops = {\"fontsize\":13,\"fontweight\":\"bold\"},rotatelabels=False, colors = color)\n",
        "plt.title(\"Employee Department in Precentage\", fontsize=18, fontweight=\"bold\")\n",
        "plt.tight_layout(pad=6);"
      ],
      "metadata": {
        "colab": {
          "base_uri": "https://localhost:8080/",
          "height": 517
        },
        "id": "0yrYU-ZcvV-V",
        "outputId": "bb9f68f4-5d22-44d9-e70f-5157f17cc712"
      },
      "execution_count": 22,
      "outputs": [
        {
          "output_type": "display_data",
          "data": {
            "text/plain": [
              "<Figure size 720x1080 with 1 Axes>"
            ],
            "image/png": "[encoded data removed]"
          },
          "metadata": {}
        }
      ]
    },
    {
      "cell_type": "markdown",
      "source": [
        "Employee Department is classified into 6 parts:\n",
        "\n",
        "1. **`Sales`** : `31.08%` of employees in this firm are from this department.\n",
        "2. **`Development`** : In order to run the firm, Development department is responsible to fetch funds. So, `30.08%` of employees belongs from development department.\n",
        "3. **`Research & Development`** : Research and development (R&D) is when businesses gather knowledge to create new products or discover new ways to improve their existing products and services. R&D is done on products which indicates this this a `product based company`. This department holds `28.58%` of employees.\n",
        "4. **`Human Resources`** :  The human resource department's mission is to make sure the company's employees are adequately managed, appropriately compensated, and effectively trained. The department is also responsible for recruiting, hiring, firing, and administering benefit.This department have `4.50%` employees.\n",
        "5. **`Finance`** : Finance Departmnet have`4.08%` employees.This department is the part of an organization that is responsible for acquiring funds for the firm, managing funds within the organization and planning for the expenditure of funds on various assets.\n",
        "6. **`Data Science`** : This department generate insights which analysts and business users can translate into tangible business value. Its a trending field now-a-days.This department having `1.67%` employees."
      ],
      "metadata": {
        "id": "cWovAroAALYW"
      }
    },
    {
      "cell_type": "markdown",
      "source": [
        "## Department wise Performance"
      ],
      "metadata": {
        "id": "bmrzt0PbEnXL"
      }
    },
    {
      "cell_type": "code",
      "source": [
        "# Histogram graph for department wise performance\n",
        "def customLegend(fig, nameSwap):\n",
        "    for i, dat in enumerate(fig.data):\n",
        "        for elem in dat:\n",
        "            if elem == 'name':\n",
        "                fig.data[i].name = nameSwap[fig.data[i].name]\n",
        "    return(fig)\n",
        "    \n",
        "fig1 = px.histogram(data, x=\"EmpDepartment\",color=\"PerformanceRating\",barmode='group',\n",
        "                    color_discrete_sequence=['#cb4154','#ffd700', '#8db600'],\n",
        "                   labels=dict(EmpDepartment=\"Employee Department\"),\n",
        "                   title=\"Department vs Performance Rating\",width=990,template=\"presentation\")\n",
        "\n",
        "fig1.update_layout(title_x=0.5,title_font_size=20,font_size=11,xaxis_showgrid=False, yaxis_showgrid=False,\n",
        "                   legend=dict(title=\"Performance Rating\"))\n",
        "\n",
        "fig1 = customLegend(fig=fig1, nameSwap = {'3': 'Excellent', '2':'Good','4':\"Outstanding\"}) \n",
        "\n",
        "fig1.show();"
      ],
      "metadata": {
        "colab": {
          "base_uri": "https://localhost:8080/",
          "height": 542
        },
        "id": "WraFif-AAKDk",
        "outputId": "437074b1-44eb-480b-eb78-b35a183130a5"
      },
      "execution_count": 23,
      "outputs": [
        {
          "output_type": "display_data",
          "data": {
            "text/html": [
              "<html>\n",
              "<head><meta charset=\"utf-8\" /></head>\n",
              "<body>\n",
              "    <div>            <script src=\"https://cdnjs.cloudflare.com/ajax/libs/mathjax/2.7.5/MathJax.js?config=TeX-AMS-MML_SVG\"></script><script type=\"text/javascript\">if (window.MathJax) {MathJax.Hub.Config({SVG: {font: \"STIX-Web\"}});}</script>                <script type=\"text/javascript\">window.PlotlyConfig = {MathJaxConfig: 'local'};</script>\n",
              "        <script src=\"https://cdn.plot.ly/plotly-2.8.3.min.js\"></script>                <div id=\"8d4bdb42-7d35-4c59-b8ed-75fe9b04aed0\" class=\"plotly-graph-div\" style=\"height:525px; width:990px;\"></div>            <script type=\"text/javascript\">                                    window.PLOTLYENV=window.PLOTLYENV || {};                                    if (document.getElementById(\"8d4bdb42-7d35-4c59-b8ed-75fe9b04aed0\")) {                    Plotly.newPlot(                        \"8d4bdb42-7d35-4c59-b8ed-75fe9b04aed0\",                        [{\"alignmentgroup\":\"True\",\"bingroup\":\"x\",\"hovertemplate\":\"PerformanceRating=3<br>Employee Department=%{x}<br>count=%{y}<extra></extra>\",\"legendgroup\":\"3\",\"marker\":{\"color\":\"#cb4154\",\"pattern\":{\"shape\":\"\"}},\"name\":\"Excellent\",\"offsetgroup\":\"3\",\"orientation\":\"v\",\"showlegend\":true,\"x\":[\"Sales\",\"Sales\",\"Human Resources\",\"Sales\",\"Sales\",\"Development\",\"Development\",\"Development\",\"Development\",\"Sales\",\"Sales\",\"Development\",\"Development\",\"Human Resources\",\"Development\",\"Development\",\"Sales\",\"Development\",\"Development\",\"Development\",\"Development\",\"Development\",\"Sales\",\"Development\",\"Sales\",\"Sales\",\"Development\",\"Development\",\"Development\",\"Sales\",\"Development\",\"Development\",\"Sales\",\"Development\",\"Development\",\"Development\",\"Sales\",\"Sales\",\"Development\",\"Development\",\"Development\",\"Development\",\"Sales\",\"Development\",\"Development\",\"Development\",\"Development\",\"Development\",\"Human Resources\",\"Development\",\"Development\",\"Development\",\"Development\",\"Sales\",\"Sales\",\"Development\",\"Development\",\"Sales\",\"Development\",\"Development\",\"Sales\",\"Development\",\"Development\",\"Development\",\"Sales\",\"Sales\",\"Sales\",\"Development\",\"Sales\",\"Human Resources\",\"Development\",\"Development\",\"Development\",\"Human Resources\",\"Sales\",\"Development\",\"Development\",\"Data Science\",\"Development\",\"Sales\",\"Sales\",\"Development\",\"Sales\",\"Sales\",\"Development\",\"Development\",\"Sales\",\"Development\",\"Human Resources\",\"Human Resources\",\"Development\",\"Development\",\"Development\",\"Sales\",\"Data Science\",\"Data Science\",\"Sales\",\"Development\",\"Development\",\"Development\",\"Development\",\"Development\",\"Sales\",\"Development\",\"Development\",\"Sales\",\"Development\",\"Data Science\",\"Sales\",\"Development\",\"Development\",\"Sales\",\"Development\",\"Sales\",\"Development\",\"Development\",\"Sales\",\"Development\",\"Sales\",\"Sales\",\"Development\",\"Sales\",\"Sales\",\"Sales\",\"Sales\",\"Sales\",\"Development\",\"Sales\",\"Sales\",\"Development\",\"Development\",\"Development\",\"Development\",\"Development\",\"Sales\",\"Development\",\"Development\",\"Research & Development\",\"Research & Development\",\"Research & Development\",\"Research & Development\",\"Research & Development\",\"Research & Development\",\"Research & Development\",\"Research & Development\",\"Research & Development\",\"Research & Development\",\"Research & Development\",\"Research & Development\",\"Research & Development\",\"Sales\",\"Sales\",\"Sales\",\"Research & Development\",\"Sales\",\"Research & Development\",\"Sales\",\"Sales\",\"Human Resources\",\"Research & Development\",\"Research & Development\",\"Research & Development\",\"Research & Development\",\"Sales\",\"Sales\",\"Research & Development\",\"Research & Development\",\"Sales\",\"Sales\",\"Research & Development\",\"Research & Development\",\"Research & Development\",\"Research & Development\",\"Research & Development\",\"Research & Development\",\"Research & Development\",\"Research & Development\",\"Sales\",\"Sales\",\"Research & Development\",\"Sales\",\"Research & Development\",\"Sales\",\"Research & Development\",\"Research & Development\",\"Research & Development\",\"Sales\",\"Research & Development\",\"Sales\",\"Sales\",\"Research & Development\",\"Research & Development\",\"Research & Development\",\"Research & Development\",\"Research & Development\",\"Sales\",\"Research & Development\",\"Research & Development\",\"Research & Development\",\"Research & Development\",\"Sales\",\"Research & Development\",\"Research & Development\",\"Sales\",\"Research & Development\",\"Research & Development\",\"Research & Development\",\"Sales\",\"Research & Development\",\"Research & Development\",\"Research & Development\",\"Research & Development\",\"Research & Development\",\"Research & Development\",\"Research & Development\",\"Research & Development\",\"Sales\",\"Sales\",\"Research & Development\",\"Sales\",\"Research & Development\",\"Sales\",\"Research & Development\",\"Research & Development\",\"Sales\",\"Research & Development\",\"Research & Development\",\"Research & Development\",\"Research & Development\",\"Research & Development\",\"Research & Development\",\"Research & Development\",\"Research & Development\",\"Research & Development\",\"Research & Development\",\"Research & Development\",\"Sales\",\"Sales\",\"Research & Development\",\"Research & Development\",\"Research & Development\",\"Research & Development\",\"Human Resources\",\"Research & Development\",\"Research & Development\",\"Sales\",\"Research & Development\",\"Research & Development\",\"Research & Development\",\"Research & Development\",\"Research & Development\",\"Research & Development\",\"Sales\",\"Research & Development\",\"Research & Development\",\"Research & Development\",\"Human Resources\",\"Research & Development\",\"Research & Development\",\"Sales\",\"Sales\",\"Sales\",\"Research & Development\",\"Human Resources\",\"Research & Development\",\"Research & Development\",\"Sales\",\"Research & Development\",\"Human Resources\",\"Sales\",\"Research & Development\",\"Research & Development\",\"Research & Development\",\"Research & Development\",\"Sales\",\"Research & Development\",\"Research & Development\",\"Research & Development\",\"Research & Development\",\"Sales\",\"Research & Development\",\"Research & Development\",\"Sales\",\"Research & Development\",\"Sales\",\"Research & Development\",\"Sales\",\"Research & Development\",\"Research & Development\",\"Human Resources\",\"Research & Development\",\"Research & Development\",\"Research & Development\",\"Human Resources\",\"Research & Development\",\"Research & Development\",\"Sales\",\"Sales\",\"Sales\",\"Research & Development\",\"Research & Development\",\"Research & Development\",\"Research & Development\",\"Research & Development\",\"Sales\",\"Research & Development\",\"Research & Development\",\"Research & Development\",\"Research & Development\",\"Research & Development\",\"Human Resources\",\"Research & Development\",\"Research & Development\",\"Research & Development\",\"Research & Development\",\"Sales\",\"Sales\",\"Sales\",\"Sales\",\"Research & Development\",\"Research & Development\",\"Sales\",\"Sales\",\"Sales\",\"Research & Development\",\"Research & Development\",\"Sales\",\"Research & Development\",\"Research & Development\",\"Sales\",\"Research & Development\",\"Research & Development\",\"Research & Development\",\"Research & Development\",\"Research & Development\",\"Sales\",\"Research & Development\",\"Research & Development\",\"Sales\",\"Research & Development\",\"Research & Development\",\"Research & Development\",\"Research & Development\",\"Research & Development\",\"Research & Development\",\"Research & Development\",\"Sales\",\"Human Resources\",\"Sales\",\"Research & Development\",\"Research & Development\",\"Research & Development\",\"Research & Development\",\"Research & Development\",\"Sales\",\"Sales\",\"Research & Development\",\"Sales\",\"Sales\",\"Finance\",\"Finance\",\"Finance\",\"Finance\",\"Finance\",\"Finance\",\"Sales\",\"Finance\",\"Finance\",\"Finance\",\"Finance\",\"Finance\",\"Finance\",\"Sales\",\"Human Resources\",\"Finance\",\"Finance\",\"Finance\",\"Finance\",\"Finance\",\"Human Resources\",\"Finance\",\"Finance\",\"Finance\",\"Finance\",\"Sales\",\"Finance\",\"Finance\",\"Finance\",\"Sales\",\"Sales\",\"Finance\",\"Sales\",\"Finance\",\"Sales\",\"Finance\",\"Human Resources\",\"Finance\",\"Finance\",\"Sales\",\"Finance\",\"Sales\",\"Research & Development\",\"Sales\",\"Research & Development\",\"Sales\",\"Research & Development\",\"Research & Development\",\"Research & Development\",\"Human Resources\",\"Research & Development\",\"Research & Development\",\"Research & Development\",\"Sales\",\"Sales\",\"Sales\",\"Research & Development\",\"Sales\",\"Research & Development\",\"Human Resources\",\"Research & Development\",\"Research & Development\",\"Sales\",\"Research & Development\",\"Sales\",\"Sales\",\"Research & Development\",\"Research & Development\",\"Research & Development\",\"Research & Development\",\"Research & Development\",\"Research & Development\",\"Sales\",\"Research & Development\",\"Sales\",\"Sales\",\"Research & Development\",\"Research & Development\",\"Research & Development\",\"Research & Development\",\"Research & Development\",\"Human Resources\",\"Research & Development\",\"Research & Development\",\"Research & Development\",\"Sales\",\"Sales\",\"Research & Development\",\"Research & Development\",\"Research & Development\",\"Sales\",\"Sales\",\"Research & Development\",\"Human Resources\",\"Research & Development\",\"Research & Development\",\"Sales\",\"Research & Development\",\"Human Resources\",\"Research & Development\",\"Research & Development\",\"Sales\",\"Human Resources\",\"Research & Development\",\"Research & Development\",\"Sales\",\"Sales\",\"Sales\",\"Research & Development\",\"Research & Development\",\"Research & Development\",\"Sales\",\"Research & Development\",\"Research & Development\",\"Research & Development\",\"Sales\",\"Sales\",\"Research & Development\",\"Research & Development\",\"Sales\",\"Sales\",\"Research & Development\",\"Research & Development\",\"Sales\",\"Research & Development\",\"Sales\",\"Research & Development\",\"Sales\",\"Human Resources\",\"Research & Development\",\"Research & Development\",\"Research & Development\",\"Sales\",\"Research & Development\",\"Research & Development\",\"Research & Development\",\"Sales\",\"Sales\",\"Sales\",\"Sales\",\"Research & Development\",\"Human Resources\",\"Human Resources\",\"Research & Development\",\"Research & Development\",\"Research & Development\",\"Research & Development\",\"Research & Development\",\"Human Resources\",\"Research & Development\",\"Research & Development\",\"Sales\",\"Research & Development\",\"Research & Development\",\"Research & Development\",\"Research & Development\",\"Research & Development\",\"Research & Development\",\"Sales\",\"Sales\",\"Sales\",\"Sales\",\"Research & Development\",\"Research & Development\",\"Sales\",\"Research & Development\",\"Human Resources\",\"Sales\",\"Research & Development\",\"Research & Development\",\"Research & Development\",\"Research & Development\",\"Research & Development\",\"Sales\",\"Sales\",\"Research & Development\",\"Research & Development\",\"Sales\",\"Research & Development\",\"Development\",\"Development\",\"Development\",\"Development\",\"Development\",\"Development\",\"Development\",\"Development\",\"Development\",\"Development\",\"Development\",\"Sales\",\"Development\",\"Development\",\"Development\",\"Development\",\"Development\",\"Sales\",\"Sales\",\"Development\",\"Sales\",\"Development\",\"Development\",\"Development\",\"Sales\",\"Sales\",\"Development\",\"Development\",\"Development\",\"Development\",\"Sales\",\"Development\",\"Development\",\"Development\",\"Development\",\"Development\",\"Development\",\"Development\",\"Development\",\"Development\",\"Development\",\"Development\",\"Development\",\"Sales\",\"Human Resources\",\"Development\",\"Development\",\"Sales\",\"Development\",\"Development\",\"Sales\",\"Development\",\"Sales\",\"Sales\",\"Sales\",\"Development\",\"Sales\",\"Sales\",\"Development\",\"Development\",\"Development\",\"Development\",\"Development\",\"Sales\",\"Development\",\"Development\",\"Human Resources\",\"Development\",\"Development\",\"Sales\",\"Development\",\"Sales\",\"Sales\",\"Development\",\"Development\",\"Development\",\"Sales\",\"Development\",\"Development\",\"Development\",\"Sales\",\"Sales\",\"Development\",\"Human Resources\",\"Development\",\"Development\",\"Development\",\"Development\",\"Sales\",\"Development\",\"Development\",\"Sales\",\"Sales\",\"Development\",\"Development\",\"Development\",\"Development\",\"Development\",\"Development\",\"Development\",\"Development\",\"Development\",\"Sales\",\"Development\",\"Development\",\"Development\",\"Development\",\"Sales\",\"Development\",\"Development\",\"Development\",\"Development\",\"Development\",\"Development\",\"Development\",\"Development\",\"Development\",\"Development\",\"Development\",\"Development\",\"Development\",\"Development\",\"Development\",\"Development\",\"Development\",\"Development\",\"Development\",\"Development\",\"Development\",\"Development\",\"Development\",\"Development\",\"Sales\",\"Sales\",\"Data Science\",\"Sales\",\"Sales\",\"Development\",\"Sales\",\"Sales\",\"Development\",\"Development\",\"Development\",\"Development\",\"Development\",\"Development\",\"Sales\",\"Development\",\"Development\",\"Development\",\"Data Science\",\"Sales\",\"Data Science\",\"Development\",\"Development\",\"Development\",\"Development\",\"Development\",\"Sales\",\"Development\",\"Development\",\"Development\",\"Development\",\"Sales\",\"Development\",\"Sales\",\"Development\",\"Sales\",\"Development\",\"Development\",\"Development\",\"Development\",\"Development\",\"Data Science\",\"Development\",\"Development\",\"Development\",\"Development\",\"Development\",\"Data Science\",\"Development\",\"Sales\",\"Sales\",\"Sales\",\"Development\",\"Sales\",\"Development\",\"Development\",\"Sales\",\"Sales\",\"Data Science\",\"Development\",\"Development\",\"Sales\",\"Development\",\"Development\",\"Development\",\"Development\",\"Development\",\"Development\",\"Development\",\"Development\",\"Development\",\"Sales\",\"Sales\",\"Sales\",\"Development\",\"Development\",\"Development\",\"Sales\",\"Data Science\",\"Sales\",\"Development\",\"Development\",\"Sales\",\"Development\",\"Sales\",\"Sales\",\"Development\",\"Development\",\"Development\",\"Sales\",\"Development\",\"Development\",\"Sales\",\"Development\",\"Sales\",\"Human Resources\",\"Development\",\"Sales\",\"Sales\",\"Development\",\"Development\",\"Sales\",\"Development\",\"Sales\",\"Development\",\"Development\",\"Data Science\",\"Sales\",\"Development\",\"Sales\",\"Development\",\"Sales\",\"Development\",\"Sales\",\"Development\",\"Development\",\"Sales\",\"Development\",\"Development\",\"Development\",\"Development\",\"Development\",\"Sales\",\"Development\",\"Development\",\"Development\",\"Development\",\"Data Science\",\"Development\",\"Development\",\"Data Science\",\"Sales\",\"Sales\",\"Sales\",\"Development\",\"Development\",\"Development\",\"Development\",\"Human Resources\",\"Sales\",\"Sales\",\"Development\",\"Development\",\"Development\",\"Development\",\"Development\",\"Development\",\"Sales\",\"Development\",\"Development\",\"Sales\",\"Development\",\"Development\",\"Human Resources\",\"Data Science\",\"Development\",\"Sales\",\"Development\",\"Sales\",\"Sales\",\"Development\",\"Sales\",\"Sales\",\"Development\",\"Sales\",\"Sales\",\"Development\",\"Development\",\"Data Science\",\"Development\",\"Development\",\"Development\",\"Sales\",\"Sales\",\"Development\",\"Sales\",\"Development\",\"Sales\",\"Development\",\"Development\",\"Development\",\"Development\",\"Development\",\"Human Resources\",\"Sales\",\"Sales\",\"Sales\",\"Development\",\"Development\",\"Development\",\"Development\",\"Development\",\"Development\",\"Sales\",\"Development\",\"Human Resources\",\"Development\",\"Development\",\"Development\",\"Development\",\"Sales\",\"Development\",\"Development\",\"Data Science\"],\"xaxis\":\"x\",\"yaxis\":\"y\",\"type\":\"histogram\"},{\"alignmentgroup\":\"True\",\"bingroup\":\"x\",\"hovertemplate\":\"PerformanceRating=4<br>Employee Department=%{x}<br>count=%{y}<extra></extra>\",\"legendgroup\":\"4\",\"marker\":{\"color\":\"#ffd700\",\"pattern\":{\"shape\":\"\"}},\"name\":\"Outstanding\",\"offsetgroup\":\"4\",\"orientation\":\"v\",\"showlegend\":true,\"x\":[\"Sales\",\"Development\",\"Sales\",\"Development\",\"Sales\",\"Sales\",\"Sales\",\"Development\",\"Development\",\"Development\",\"Development\",\"Development\",\"Sales\",\"Development\",\"Development\",\"Development\",\"Development\",\"Development\",\"Sales\",\"Sales\",\"Research & Development\",\"Research & Development\",\"Research & Development\",\"Research & Development\",\"Sales\",\"Research & Development\",\"Research & Development\",\"Research & Development\",\"Sales\",\"Research & Development\",\"Research & Development\",\"Human Resources\",\"Research & Development\",\"Research & Development\",\"Research & Development\",\"Research & Development\",\"Research & Development\",\"Research & Development\",\"Sales\",\"Research & Development\",\"Research & Development\",\"Sales\",\"Research & Development\",\"Research & Development\",\"Research & Development\",\"Research & Development\",\"Research & Development\",\"Research & Development\",\"Research & Development\",\"Human Resources\",\"Sales\",\"Sales\",\"Finance\",\"Finance\",\"Finance\",\"Sales\",\"Sales\",\"Finance\",\"Research & Development\",\"Research & Development\",\"Research & Development\",\"Human Resources\",\"Sales\",\"Sales\",\"Research & Development\",\"Sales\",\"Research & Development\",\"Research & Development\",\"Research & Development\",\"Research & Development\",\"Research & Development\",\"Human Resources\",\"Research & Development\",\"Sales\",\"Research & Development\",\"Research & Development\",\"Research & Development\",\"Research & Development\",\"Research & Development\",\"Research & Development\",\"Research & Development\",\"Sales\",\"Sales\",\"Sales\",\"Development\",\"Development\",\"Development\",\"Development\",\"Development\",\"Development\",\"Development\",\"Development\",\"Development\",\"Sales\",\"Human Resources\",\"Development\",\"Development\",\"Human Resources\",\"Development\",\"Development\",\"Development\",\"Development\",\"Sales\",\"Development\",\"Sales\",\"Development\",\"Sales\",\"Sales\",\"Development\",\"Development\",\"Data Science\",\"Development\",\"Sales\",\"Development\",\"Sales\",\"Development\",\"Sales\",\"Development\",\"Development\",\"Development\",\"Development\",\"Development\",\"Data Science\",\"Development\",\"Sales\",\"Development\",\"Development\",\"Development\",\"Development\",\"Sales\",\"Sales\",\"Sales\"],\"xaxis\":\"x\",\"yaxis\":\"y\",\"type\":\"histogram\"},{\"alignmentgroup\":\"True\",\"bingroup\":\"x\",\"hovertemplate\":\"PerformanceRating=2<br>Employee Department=%{x}<br>count=%{y}<extra></extra>\",\"legendgroup\":\"2\",\"marker\":{\"color\":\"#8db600\",\"pattern\":{\"shape\":\"\"}},\"name\":\"Good\",\"offsetgroup\":\"2\",\"orientation\":\"v\",\"showlegend\":true,\"x\":[\"Sales\",\"Research & Development\",\"Research & Development\",\"Research & Development\",\"Research & Development\",\"Research & Development\",\"Research & Development\",\"Sales\",\"Sales\",\"Sales\",\"Research & Development\",\"Research & Development\",\"Research & Development\",\"Research & Development\",\"Research & Development\",\"Research & Development\",\"Human Resources\",\"Research & Development\",\"Research & Development\",\"Sales\",\"Research & Development\",\"Sales\",\"Research & Development\",\"Research & Development\",\"Sales\",\"Human Resources\",\"Sales\",\"Research & Development\",\"Sales\",\"Human Resources\",\"Research & Development\",\"Research & Development\",\"Research & Development\",\"Sales\",\"Sales\",\"Research & Development\",\"Research & Development\",\"Research & Development\",\"Sales\",\"Sales\",\"Sales\",\"Sales\",\"Research & Development\",\"Research & Development\",\"Sales\",\"Sales\",\"Sales\",\"Sales\",\"Research & Development\",\"Research & Development\",\"Research & Development\",\"Sales\",\"Sales\",\"Human Resources\",\"Research & Development\",\"Research & Development\",\"Research & Development\",\"Research & Development\",\"Sales\",\"Sales\",\"Research & Development\",\"Research & Development\",\"Research & Development\",\"Research & Development\",\"Sales\",\"Research & Development\",\"Research & Development\",\"Sales\",\"Sales\",\"Sales\",\"Research & Development\",\"Research & Development\",\"Finance\",\"Finance\",\"Finance\",\"Finance\",\"Finance\",\"Finance\",\"Sales\",\"Finance\",\"Finance\",\"Finance\",\"Sales\",\"Finance\",\"Finance\",\"Finance\",\"Finance\",\"Finance\",\"Finance\",\"Research & Development\",\"Research & Development\",\"Research & Development\",\"Sales\",\"Sales\",\"Human Resources\",\"Sales\",\"Human Resources\",\"Sales\",\"Sales\",\"Research & Development\",\"Human Resources\",\"Research & Development\",\"Research & Development\",\"Sales\",\"Sales\",\"Research & Development\",\"Sales\",\"Research & Development\",\"Sales\",\"Research & Development\",\"Sales\",\"Sales\",\"Sales\",\"Research & Development\",\"Research & Development\",\"Research & Development\",\"Sales\",\"Research & Development\",\"Sales\",\"Research & Development\",\"Research & Development\",\"Sales\",\"Sales\",\"Sales\",\"Research & Development\",\"Sales\",\"Research & Development\",\"Sales\",\"Research & Development\",\"Sales\",\"Research & Development\",\"Research & Development\",\"Sales\",\"Research & Development\",\"Research & Development\",\"Research & Development\",\"Sales\",\"Research & Development\",\"Research & Development\",\"Sales\",\"Research & Development\",\"Sales\",\"Research & Development\",\"Sales\",\"Development\",\"Development\",\"Development\",\"Development\",\"Sales\",\"Sales\",\"Sales\",\"Sales\",\"Development\",\"Sales\",\"Sales\",\"Sales\",\"Sales\",\"Sales\",\"Sales\",\"Sales\",\"Sales\",\"Sales\",\"Sales\",\"Sales\",\"Sales\",\"Sales\",\"Human Resources\",\"Sales\",\"Development\",\"Data Science\",\"Development\",\"Sales\",\"Development\",\"Human Resources\",\"Sales\",\"Sales\",\"Sales\",\"Sales\",\"Sales\",\"Development\",\"Sales\",\"Development\",\"Sales\",\"Development\",\"Sales\",\"Sales\",\"Sales\",\"Sales\",\"Development\",\"Sales\",\"Human Resources\",\"Development\",\"Sales\",\"Sales\"],\"xaxis\":\"x\",\"yaxis\":\"y\",\"type\":\"histogram\"}],                        {\"template\":{\"data\":{\"pie\":[{\"automargin\":true,\"type\":\"pie\"}],\"scatter3d\":[{\"line\":{\"width\":3},\"marker\":{\"size\":9},\"type\":\"scatter3d\"}],\"scattergeo\":[{\"line\":{\"width\":3},\"marker\":{\"size\":9},\"type\":\"scattergeo\"}],\"scattergl\":[{\"line\":{\"width\":3},\"marker\":{\"size\":9},\"type\":\"scattergl\"}],\"scatterpolargl\":[{\"line\":{\"width\":3},\"marker\":{\"size\":9},\"type\":\"scatterpolargl\"}],\"scatterpolar\":[{\"line\":{\"width\":3},\"marker\":{\"size\":9},\"type\":\"scatterpolar\"}],\"scatter\":[{\"line\":{\"width\":3},\"marker\":{\"size\":9},\"type\":\"scatter\"}],\"scatterternary\":[{\"line\":{\"width\":3},\"marker\":{\"size\":9},\"type\":\"scatterternary\"}],\"table\":[{\"cells\":{\"height\":30},\"header\":{\"height\":36},\"type\":\"table\"}]},\"layout\":{\"font\":{\"size\":18},\"xaxis\":{\"title\":{\"standoff\":15}},\"yaxis\":{\"title\":{\"standoff\":15}}}},\"xaxis\":{\"anchor\":\"y\",\"domain\":[0.0,1.0],\"title\":{\"text\":\"Employee Department\"},\"showgrid\":false},\"yaxis\":{\"anchor\":\"x\",\"domain\":[0.0,1.0],\"title\":{\"text\":\"count\"},\"showgrid\":false},\"legend\":{\"title\":{\"text\":\"Performance Rating\"},\"tracegroupgap\":0},\"title\":{\"text\":\"Department vs Performance Rating\",\"font\":{\"size\":20},\"x\":0.5},\"barmode\":\"group\",\"width\":990,\"font\":{\"size\":11}},                        {\"responsive\": true}                    ).then(function(){\n",
              "                            \n",
              "var gd = document.getElementById('8d4bdb42-7d35-4c59-b8ed-75fe9b04aed0');\n",
              "var x = new MutationObserver(function (mutations, observer) {{\n",
              "        var display = window.getComputedStyle(gd).display;\n",
              "        if (!display || display === 'none') {{\n",
              "            console.log([gd, 'removed!']);\n",
              "            Plotly.purge(gd);\n",
              "            observer.disconnect();\n",
              "        }}\n",
              "}});\n",
              "\n",
              "// Listen for the removal of the full notebook cells\n",
              "var notebookContainer = gd.closest('#notebook-container');\n",
              "if (notebookContainer) {{\n",
              "    x.observe(notebookContainer, {childList: true});\n",
              "}}\n",
              "\n",
              "// Listen for the clearing of the current output cell\n",
              "var outputEl = gd.closest('.output');\n",
              "if (outputEl) {{\n",
              "    x.observe(outputEl, {childList: true});\n",
              "}}\n",
              "\n",
              "                        })                };                            </script>        </div>\n",
              "</body>\n",
              "</html>"
            ]
          },
          "metadata": {}
        }
      ]
    },
    {
      "cell_type": "code",
      "source": [],
      "metadata": {
        "id": "fx6c-jpx_1zW"
      },
      "execution_count": null,
      "outputs": []
    }
  ]
}