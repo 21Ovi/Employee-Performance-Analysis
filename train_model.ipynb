{
  "nbformat": 4,
  "nbformat_minor": 0,
  "metadata": {
    "colab": {
      "provenance": [],
      "authorship_tag": "ABX9TyNizmsIgolk2EaJtQd7DLpz",
      "include_colab_link": true
    },
    "kernelspec": {
      "name": "python3",
      "display_name": "Python 3"
    },
    "language_info": {
      "name": "python"
    }
  },
  "cells": [
    {
      "cell_type": "markdown",
      "metadata": {
        "id": "view-in-github",
        "colab_type": "text"
      },
      "source": [
        "<a href=\"https://colab.research.google.com/github/21Ovi/Employee-Performance-Analysis/blob/main/train_model.ipynb\" target=\"_parent\"><img src=\"https://colab.research.google.com/assets/colab-badge.svg\" alt=\"Open In Colab\"/></a>"
      ]
    },
    {
      "cell_type": "markdown",
      "source": [
        "# Imports"
      ],
      "metadata": {
        "id": "BBE1UVZjjZ6V"
      }
    },
    {
      "cell_type": "code",
      "source": [
        "import numpy as np\n",
        "import pandas as pd\n",
        "import matplotlib.pyplot as plt\n",
        "import seaborn as sns\n",
        "from scipy import stats\n",
        "\n",
        "from scipy.stats import skew, kurtosis\n",
        "from sklearn.preprocessing import LabelEncoder,StandardScaler,MinMaxScaler\n",
        "from imblearn.over_sampling import RandomOverSampler,SMOTENC,SMOTE\n",
        "from sklearn.feature_selection import SelectKBest,chi2\n",
        "from sklearn import svm, tree, model_selection, linear_model, neighbors, naive_bayes, ensemble, discriminant_analysis, gaussian_process\n",
        "from sklearn.ensemble import RandomForestClassifier,ExtraTreesClassifier\n",
        "from xgboost import XGBClassifier\n",
        "from sklearn.model_selection import train_test_split, KFold\n",
        "from sklearn.metrics import accuracy_score, confusion_matrix, classification_report, plot_confusion_matrix\n",
        "from yellowbrick.classifier import ROCAUC\n",
        "\n",
        "#!pip install optuna\n",
        "import optuna\n",
        "import matplotlib\n",
        "\n",
        "# To avoid warnings\n",
        "import warnings\n",
        "warnings.filterwarnings('ignore')"
      ],
      "metadata": {
        "id": "Fj4KYM3BjZGz"
      },
      "execution_count": 49,
      "outputs": []
    },
    {
      "cell_type": "code",
      "execution_count": 75,
      "metadata": {
        "colab": {
          "base_uri": "https://localhost:8080/",
          "height": 369
        },
        "id": "rrtIfDx0i9Cu",
        "outputId": "7524fb9f-75c9-4f10-f9a1-233bc87ce7bc"
      },
      "outputs": [
        {
          "output_type": "execute_result",
          "data": {
            "text/plain": [
              "   Age  Distance From Home  Employee Hourly Rate  Number of Companies Worked  \\\n",
              "0   32                  10                    55                           1   \n",
              "1   47                  14                    42                           2   \n",
              "2   40                   5                    48                           5   \n",
              "3   41                  10                    73                           3   \n",
              "4   60                  16                    84                           8   \n",
              "\n",
              "   Employee Last Salary Hike Percent  Total Work Experience In Years  \\\n",
              "0                                 12                              10   \n",
              "1                                 12                              20   \n",
              "2                                 21                              20   \n",
              "3                                 15                              23   \n",
              "4                                 14                              10   \n",
              "\n",
              "   Training Times Last Year  Experience Years At This Company  \\\n",
              "0                         2                                10   \n",
              "1                         2                                 7   \n",
              "2                         2                                18   \n",
              "3                         2                                21   \n",
              "4                         1                                 2   \n",
              "\n",
              "   Experience Years In Current Role  Years Since Last Promotion  ...  \\\n",
              "0                                 7                    0.000000  ...   \n",
              "1                                 7                    1.000000  ...   \n",
              "2                                13                    1.000000  ...   \n",
              "3                                 6                    3.464102  ...   \n",
              "4                                 2                    1.414214  ...   \n",
              "\n",
              "   Employee Work Life Balance  Gender  Education Background  Marital Status  \\\n",
              "0                           2       1                     2               2   \n",
              "1                           3       1                     2               2   \n",
              "2                           3       1                     1               1   \n",
              "3                           2       1                     0               0   \n",
              "4                           3       1                     2               2   \n",
              "\n",
              "   Employees Department  Employees Job Role  Business Travel Frequency  \\\n",
              "0                     5                  13                          2   \n",
              "1                     5                  13                          2   \n",
              "2                     5                  13                          1   \n",
              "3                     3                   8                          2   \n",
              "4                     5                  13                          2   \n",
              "\n",
              "   Over Time  Attrition  Performance Rating  \n",
              "0          0          0                   3  \n",
              "1          0          0                   3  \n",
              "2          1          0                   4  \n",
              "3          0          0                   3  \n",
              "4          0          0                   3  \n",
              "\n",
              "[5 rows x 27 columns]"
            ],
            "text/html": [
              "\n",
              "  <div id=\"df-c4db15d0-1587-442b-8358-47b4cab24c7c\">\n",
              "    <div class=\"colab-df-container\">\n",
              "      <div>\n",
              "<style scoped>\n",
              "    .dataframe tbody tr th:only-of-type {\n",
              "        vertical-align: middle;\n",
              "    }\n",
              "\n",
              "    .dataframe tbody tr th {\n",
              "        vertical-align: top;\n",
              "    }\n",
              "\n",
              "    .dataframe thead th {\n",
              "        text-align: right;\n",
              "    }\n",
              "</style>\n",
              "<table border=\"1\" class=\"dataframe\">\n",
              "  <thead>\n",
              "    <tr style=\"text-align: right;\">\n",
              "      <th></th>\n",
              "      <th>Age</th>\n",
              "      <th>Distance From Home</th>\n",
              "      <th>Employee Hourly Rate</th>\n",
              "      <th>Number of Companies Worked</th>\n",
              "      <th>Employee Last Salary Hike Percent</th>\n",
              "      <th>Total Work Experience In Years</th>\n",
              "      <th>Training Times Last Year</th>\n",
              "      <th>Experience Years At This Company</th>\n",
              "      <th>Experience Years In Current Role</th>\n",
              "      <th>Years Since Last Promotion</th>\n",
              "      <th>...</th>\n",
              "      <th>Employee Work Life Balance</th>\n",
              "      <th>Gender</th>\n",
              "      <th>Education Background</th>\n",
              "      <th>Marital Status</th>\n",
              "      <th>Employees Department</th>\n",
              "      <th>Employees Job Role</th>\n",
              "      <th>Business Travel Frequency</th>\n",
              "      <th>Over Time</th>\n",
              "      <th>Attrition</th>\n",
              "      <th>Performance Rating</th>\n",
              "    </tr>\n",
              "  </thead>\n",
              "  <tbody>\n",
              "    <tr>\n",
              "      <th>0</th>\n",
              "      <td>32</td>\n",
              "      <td>10</td>\n",
              "      <td>55</td>\n",
              "      <td>1</td>\n",
              "      <td>12</td>\n",
              "      <td>10</td>\n",
              "      <td>2</td>\n",
              "      <td>10</td>\n",
              "      <td>7</td>\n",
              "      <td>0.000000</td>\n",
              "      <td>...</td>\n",
              "      <td>2</td>\n",
              "      <td>1</td>\n",
              "      <td>2</td>\n",
              "      <td>2</td>\n",
              "      <td>5</td>\n",
              "      <td>13</td>\n",
              "      <td>2</td>\n",
              "      <td>0</td>\n",
              "      <td>0</td>\n",
              "      <td>3</td>\n",
              "    </tr>\n",
              "    <tr>\n",
              "      <th>1</th>\n",
              "      <td>47</td>\n",
              "      <td>14</td>\n",
              "      <td>42</td>\n",
              "      <td>2</td>\n",
              "      <td>12</td>\n",
              "      <td>20</td>\n",
              "      <td>2</td>\n",
              "      <td>7</td>\n",
              "      <td>7</td>\n",
              "      <td>1.000000</td>\n",
              "      <td>...</td>\n",
              "      <td>3</td>\n",
              "      <td>1</td>\n",
              "      <td>2</td>\n",
              "      <td>2</td>\n",
              "      <td>5</td>\n",
              "      <td>13</td>\n",
              "      <td>2</td>\n",
              "      <td>0</td>\n",
              "      <td>0</td>\n",
              "      <td>3</td>\n",
              "    </tr>\n",
              "    <tr>\n",
              "      <th>2</th>\n",
              "      <td>40</td>\n",
              "      <td>5</td>\n",
              "      <td>48</td>\n",
              "      <td>5</td>\n",
              "      <td>21</td>\n",
              "      <td>20</td>\n",
              "      <td>2</td>\n",
              "      <td>18</td>\n",
              "      <td>13</td>\n",
              "      <td>1.000000</td>\n",
              "      <td>...</td>\n",
              "      <td>3</td>\n",
              "      <td>1</td>\n",
              "      <td>1</td>\n",
              "      <td>1</td>\n",
              "      <td>5</td>\n",
              "      <td>13</td>\n",
              "      <td>1</td>\n",
              "      <td>1</td>\n",
              "      <td>0</td>\n",
              "      <td>4</td>\n",
              "    </tr>\n",
              "    <tr>\n",
              "      <th>3</th>\n",
              "      <td>41</td>\n",
              "      <td>10</td>\n",
              "      <td>73</td>\n",
              "      <td>3</td>\n",
              "      <td>15</td>\n",
              "      <td>23</td>\n",
              "      <td>2</td>\n",
              "      <td>21</td>\n",
              "      <td>6</td>\n",
              "      <td>3.464102</td>\n",
              "      <td>...</td>\n",
              "      <td>2</td>\n",
              "      <td>1</td>\n",
              "      <td>0</td>\n",
              "      <td>0</td>\n",
              "      <td>3</td>\n",
              "      <td>8</td>\n",
              "      <td>2</td>\n",
              "      <td>0</td>\n",
              "      <td>0</td>\n",
              "      <td>3</td>\n",
              "    </tr>\n",
              "    <tr>\n",
              "      <th>4</th>\n",
              "      <td>60</td>\n",
              "      <td>16</td>\n",
              "      <td>84</td>\n",
              "      <td>8</td>\n",
              "      <td>14</td>\n",
              "      <td>10</td>\n",
              "      <td>1</td>\n",
              "      <td>2</td>\n",
              "      <td>2</td>\n",
              "      <td>1.414214</td>\n",
              "      <td>...</td>\n",
              "      <td>3</td>\n",
              "      <td>1</td>\n",
              "      <td>2</td>\n",
              "      <td>2</td>\n",
              "      <td>5</td>\n",
              "      <td>13</td>\n",
              "      <td>2</td>\n",
              "      <td>0</td>\n",
              "      <td>0</td>\n",
              "      <td>3</td>\n",
              "    </tr>\n",
              "  </tbody>\n",
              "</table>\n",
              "<p>5 rows × 27 columns</p>\n",
              "</div>\n",
              "      <button class=\"colab-df-convert\" onclick=\"convertToInteractive('df-c4db15d0-1587-442b-8358-47b4cab24c7c')\"\n",
              "              title=\"Convert this dataframe to an interactive table.\"\n",
              "              style=\"display:none;\">\n",
              "        \n",
              "  <svg xmlns=\"http://www.w3.org/2000/svg\" height=\"24px\"viewBox=\"0 0 24 24\"\n",
              "       width=\"24px\">\n",
              "    <path d=\"M0 0h24v24H0V0z\" fill=\"none\"/>\n",
              "    <path d=\"M18.56 5.44l.94 2.06.94-2.06 2.06-.94-2.06-.94-.94-2.06-.94 2.06-2.06.94zm-11 1L8.5 8.5l.94-2.06 2.06-.94-2.06-.94L8.5 2.5l-.94 2.06-2.06.94zm10 10l.94 2.06.94-2.06 2.06-.94-2.06-.94-.94-2.06-.94 2.06-2.06.94z\"/><path d=\"M17.41 7.96l-1.37-1.37c-.4-.4-.92-.59-1.43-.59-.52 0-1.04.2-1.43.59L10.3 9.45l-7.72 7.72c-.78.78-.78 2.05 0 2.83L4 21.41c.39.39.9.59 1.41.59.51 0 1.02-.2 1.41-.59l7.78-7.78 2.81-2.81c.8-.78.8-2.07 0-2.86zM5.41 20L4 18.59l7.72-7.72 1.47 1.35L5.41 20z\"/>\n",
              "  </svg>\n",
              "      </button>\n",
              "      \n",
              "  <style>\n",
              "    .colab-df-container {\n",
              "      display:flex;\n",
              "      flex-wrap:wrap;\n",
              "      gap: 12px;\n",
              "    }\n",
              "\n",
              "    .colab-df-convert {\n",
              "      background-color: #E8F0FE;\n",
              "      border: none;\n",
              "      border-radius: 50%;\n",
              "      cursor: pointer;\n",
              "      display: none;\n",
              "      fill: #1967D2;\n",
              "      height: 32px;\n",
              "      padding: 0 0 0 0;\n",
              "      width: 32px;\n",
              "    }\n",
              "\n",
              "    .colab-df-convert:hover {\n",
              "      background-color: #E2EBFA;\n",
              "      box-shadow: 0px 1px 2px rgba(60, 64, 67, 0.3), 0px 1px 3px 1px rgba(60, 64, 67, 0.15);\n",
              "      fill: #174EA6;\n",
              "    }\n",
              "\n",
              "    [theme=dark] .colab-df-convert {\n",
              "      background-color: #3B4455;\n",
              "      fill: #D2E3FC;\n",
              "    }\n",
              "\n",
              "    [theme=dark] .colab-df-convert:hover {\n",
              "      background-color: #434B5C;\n",
              "      box-shadow: 0px 1px 3px 1px rgba(0, 0, 0, 0.15);\n",
              "      filter: drop-shadow(0px 1px 2px rgba(0, 0, 0, 0.3));\n",
              "      fill: #FFFFFF;\n",
              "    }\n",
              "  </style>\n",
              "\n",
              "      <script>\n",
              "        const buttonEl =\n",
              "          document.querySelector('#df-c4db15d0-1587-442b-8358-47b4cab24c7c button.colab-df-convert');\n",
              "        buttonEl.style.display =\n",
              "          google.colab.kernel.accessAllowed ? 'block' : 'none';\n",
              "\n",
              "        async function convertToInteractive(key) {\n",
              "          const element = document.querySelector('#df-c4db15d0-1587-442b-8358-47b4cab24c7c');\n",
              "          const dataTable =\n",
              "            await google.colab.kernel.invokeFunction('convertToInteractive',\n",
              "                                                     [key], {});\n",
              "          if (!dataTable) return;\n",
              "\n",
              "          const docLinkHtml = 'Like what you see? Visit the ' +\n",
              "            '<a target=\"_blank\" href=https://colab.research.google.com/notebooks/data_table.ipynb>data table notebook</a>'\n",
              "            + ' to learn more about interactive tables.';\n",
              "          element.innerHTML = '';\n",
              "          dataTable['output_type'] = 'display_data';\n",
              "          await google.colab.output.renderOutput(dataTable, element);\n",
              "          const docLink = document.createElement('div');\n",
              "          docLink.innerHTML = docLinkHtml;\n",
              "          element.appendChild(docLink);\n",
              "        }\n",
              "      </script>\n",
              "    </div>\n",
              "  </div>\n",
              "  "
            ]
          },
          "metadata": {},
          "execution_count": 75
        }
      ],
      "source": [
        "data = pd.read_excel('/content/preprocessed_data.xlsx')\n",
        "data.head()"
      ]
    },
    {
      "cell_type": "markdown",
      "source": [
        "# Feature Selection"
      ],
      "metadata": {
        "id": "li5hVRcZsDRA"
      }
    },
    {
      "cell_type": "code",
      "source": [
        "# Splitting dataset into Dependent(X) and Independent(y) Variables\n",
        "\n",
        "X = data.drop('Performance Rating', axis=1)\n",
        "y = data['Performance Rating']"
      ],
      "metadata": {
        "id": "IsYZ5cRqsdTD"
      },
      "execution_count": 76,
      "outputs": []
    },
    {
      "cell_type": "code",
      "source": [
        "bestfeatures = SelectKBest(score_func=chi2,k=15)\n",
        "fit = bestfeatures.fit(X,y)\n",
        "\n",
        "dfscores = pd.DataFrame(fit.scores_)\n",
        "dfcolumns = pd.DataFrame(X.columns)\n",
        "\n",
        "featurescores = pd.concat([dfcolumns,dfscores],axis=1)\n",
        "featurescores.columns = ['feature_names','Scores']\n",
        "\n",
        "print(featurescores.nlargest(5,'Scores'))"
      ],
      "metadata": {
        "colab": {
          "base_uri": "https://localhost:8080/"
        },
        "id": "5YPgtVZQsFYu",
        "outputId": "709002f7-1861-4a33-ea32-ca5f40813cdf"
      },
      "execution_count": 77,
      "outputs": [
        {
          "output_type": "stream",
          "name": "stdout",
          "text": [
            "                        feature_names       Scores\n",
            "4   Employee Last Salary Hike Percent  1251.369985\n",
            "12  Employee Environment Satisfaction   456.884207\n",
            "9          Years Since Last Promotion   352.363603\n",
            "7    Experience Years At This Company   347.864952\n",
            "8    Experience Years In Current Role   347.401176\n"
          ]
        }
      ]
    },
    {
      "cell_type": "markdown",
      "source": [
        "These are the `Top 5 features` which impact on the `target variable` to `predict the rating`."
      ],
      "metadata": {
        "id": "nobNBJ_xs2Op"
      }
    },
    {
      "cell_type": "markdown",
      "source": [
        "## Checking which Machine Learning Algorithm perform well for given dataset"
      ],
      "metadata": {
        "id": "30VIKf6_s_vs"
      }
    },
    {
      "cell_type": "code",
      "source": [
        "features = data.columns[:-1]\n",
        "test.rename({'':'Performance Rating'},axis = 1, inplace = True)"
      ],
      "metadata": {
        "id": "c4Ka1-G5sFWx"
      },
      "execution_count": 90,
      "outputs": []
    },
    {
      "cell_type": "code",
      "source": [
        "MLA = [\n",
        "    # Ensemble Methods\n",
        "    ensemble.AdaBoostClassifier(),\n",
        "    ensemble.BaggingClassifier(),\n",
        "    ensemble.ExtraTreesClassifier(),\n",
        "    ensemble.GradientBoostingClassifier(),\n",
        "    ensemble.RandomForestClassifier(),\n",
        "\n",
        "    # General Linear Models\n",
        "    linear_model.LogisticRegression(),\n",
        "    linear_model.PassiveAggressiveClassifier(),\n",
        "    linear_model.RidgeClassifierCV(),\n",
        "    linear_model.SGDClassifier(),\n",
        "    linear_model.Perceptron(),\n",
        "\n",
        "    # Naive Bayes\n",
        "    naive_bayes.BernoulliNB(),\n",
        "    naive_bayes.GaussianNB(),\n",
        "\n",
        "    # Nearest Neighbor\n",
        "    neighbors.KNeighborsClassifier(),\n",
        "\n",
        "    # SVM\n",
        "    svm.SVC(probability=True),\n",
        "    svm.NuSVC(probability=True),\n",
        "    svm.LinearSVC(),\n",
        "\n",
        "    # Trees\n",
        "    tree.DecisionTreeClassifier(),\n",
        "    tree.ExtraTreeClassifier(),\n",
        "\n",
        "    # Discriminant Analysis\n",
        "    discriminant_analysis.LinearDiscriminantAnalysis(),\n",
        "    discriminant_analysis.QuadraticDiscriminantAnalysis(),\n",
        "\n",
        "    # XGBOOST\n",
        "    XGBClassifier()\n",
        "]"
      ],
      "metadata": {
        "id": "aJ4mViiBmSJQ"
      },
      "execution_count": 54,
      "outputs": []
    },
    {
      "cell_type": "code",
      "source": [
        "# Split dataset in cross-validation with this splitter class\n",
        "# note: this is an alternative to train_test_split\n",
        "cv_split = model_selection.ShuffleSplit(n_splits = 10, test_size = 0.3, train_size = 0.7, random_state = 0 ) # run model 10x with 60/30 split intentionally leaving out 10%\n",
        "\n",
        "\n",
        "#create table to compare MLA metrics\n",
        "MLA_columns = ['MLA Name', 'MLA Parameters', 'MLA Test Accuracy Mean', 'MLA Test Accuracy 3*STD' ,'MLA Time']\n",
        "MLA_compare = pd.DataFrame(columns = MLA_columns)\n",
        "\n",
        "#create table to compare MLA predictions\n",
        "MLA_predict = data['Performance Rating']"
      ],
      "metadata": {
        "id": "LKFHQnurw-RN"
      },
      "execution_count": 81,
      "outputs": []
    },
    {
      "cell_type": "code",
      "source": [
        "# Index through MLA and save performance to table\n",
        "row_index = 0\n",
        "data1 = data.copy()\n",
        "for alg in MLA:\n",
        "    data = data1\n",
        "    # Set name and parameters\n",
        "    MLA_name = alg.__class__.__name__\n",
        "    print('Executing ',MLA_name)\n",
        "    MLA_compare.loc[row_index, 'MLA Name'] = MLA_name\n",
        "    MLA_compare.loc[row_index, 'MLA Parameters'] = str(alg.get_params())\n",
        "    \n",
        "    # Score model with cross validation\n",
        "    cv_results = model_selection.cross_validate(alg, data[features], data['Performance Rating'], cv  = cv_split)\n",
        "    # Print(cv_results.keys())\n",
        "    MLA_compare.loc[row_index, 'MLA Time'] = cv_results['fit_time'].mean()\n",
        "    # MLA_compare.loc[row_index, 'MLA Train Accuracy Mean'] = cv_results['train_score'].mean()\n",
        "    MLA_compare.loc[row_index, 'MLA Test Accuracy Mean'] = cv_results['test_score'].mean()   \n",
        "    # If this is a non-bias random sample, then +/-3 standard deviations (std) from the mean, should statistically capture 99.7% of the subsets\n",
        "    MLA_compare.loc[row_index, 'MLA Test Accuracy 3*STD'] = cv_results['test_score'].std()*3   #let's know the worst that can happen!\n",
        "    \n",
        "    # Save MLA predictions - see section 6 for usage\n",
        "    alg.fit(data[features], data['Performance Rating'])\n",
        "    MLA_predict[MLA_name] = alg.predict(data[features])\n",
        "    row_index+=1\n",
        "\n",
        "MLA_compare.sort_values(by = ['MLA Test Accuracy Mean'], ascending = False, inplace = True)\n",
        "MLA_compare\n",
        "# MLA_predict"
      ],
      "metadata": {
        "colab": {
          "base_uri": "https://localhost:8080/",
          "height": 1000
        },
        "id": "U_MeahkqxP3D",
        "outputId": "0b541f0c-bc2f-45a3-fee8-b4a4097adefe"
      },
      "execution_count": 87,
      "outputs": [
        {
          "output_type": "stream",
          "name": "stdout",
          "text": [
            "Executing  AdaBoostClassifier\n",
            "Executing  BaggingClassifier\n",
            "Executing  ExtraTreesClassifier\n",
            "Executing  GradientBoostingClassifier\n",
            "Executing  RandomForestClassifier\n",
            "Executing  LogisticRegression\n",
            "Executing  PassiveAggressiveClassifier\n",
            "Executing  RidgeClassifierCV\n",
            "Executing  SGDClassifier\n",
            "Executing  Perceptron\n",
            "Executing  BernoulliNB\n",
            "Executing  GaussianNB\n",
            "Executing  KNeighborsClassifier\n",
            "Executing  SVC\n",
            "Executing  NuSVC\n",
            "Executing  LinearSVC\n",
            "Executing  DecisionTreeClassifier\n",
            "Executing  ExtraTreeClassifier\n",
            "Executing  LinearDiscriminantAnalysis\n",
            "Executing  QuadraticDiscriminantAnalysis\n",
            "Executing  XGBClassifier\n"
          ]
        },
        {
          "output_type": "execute_result",
          "data": {
            "text/plain": [
              "                         MLA Name  \\\n",
              "4          RandomForestClassifier   \n",
              "2            ExtraTreesClassifier   \n",
              "3      GradientBoostingClassifier   \n",
              "1               BaggingClassifier   \n",
              "16         DecisionTreeClassifier   \n",
              "20                  XGBClassifier   \n",
              "17            ExtraTreeClassifier   \n",
              "19  QuadraticDiscriminantAnalysis   \n",
              "18     LinearDiscriminantAnalysis   \n",
              "7               RidgeClassifierCV   \n",
              "11                     GaussianNB   \n",
              "5              LogisticRegression   \n",
              "14                          NuSVC   \n",
              "0              AdaBoostClassifier   \n",
              "12           KNeighborsClassifier   \n",
              "8                   SGDClassifier   \n",
              "15                      LinearSVC   \n",
              "9                      Perceptron   \n",
              "13                            SVC   \n",
              "6     PassiveAggressiveClassifier   \n",
              "10                    BernoulliNB   \n",
              "\n",
              "                                       MLA Parameters MLA Test Accuracy Mean  \\\n",
              "4   {'bootstrap': True, 'ccp_alpha': 0.0, 'class_w...                0.98615   \n",
              "2   {'bootstrap': False, 'ccp_alpha': 0.0, 'class_...               0.985133   \n",
              "3   {'ccp_alpha': 0.0, 'criterion': 'friedman_mse'...               0.974968   \n",
              "1   {'base_estimator': None, 'bootstrap': True, 'b...               0.972173   \n",
              "16  {'ccp_alpha': 0.0, 'class_weight': None, 'crit...               0.970648   \n",
              "20  {'base_score': 0.5, 'booster': 'gbtree', 'cols...               0.968361   \n",
              "17  {'ccp_alpha': 0.0, 'class_weight': None, 'crit...               0.931766   \n",
              "19  {'priors': None, 'reg_param': 0.0, 'store_cova...               0.860356   \n",
              "18  {'covariance_estimator': None, 'n_components':...               0.803431   \n",
              "7   {'alphas': array([ 0.1,  1. , 10. ]), 'class_w...               0.802922   \n",
              "11           {'priors': None, 'var_smoothing': 1e-09}               0.796188   \n",
              "5   {'C': 1.0, 'class_weight': None, 'dual': False...               0.786912   \n",
              "14  {'break_ties': False, 'cache_size': 200, 'clas...               0.785642   \n",
              "0   {'algorithm': 'SAMME.R', 'base_estimator': Non...               0.771156   \n",
              "12  {'algorithm': 'auto', 'leaf_size': 30, 'metric...               0.755146   \n",
              "8   {'alpha': 0.0001, 'average': False, 'class_wei...               0.728971   \n",
              "15  {'C': 1.0, 'class_weight': None, 'dual': True,...               0.716773   \n",
              "9   {'alpha': 0.0001, 'class_weight': None, 'early...               0.686912   \n",
              "13  {'C': 1.0, 'break_ties': False, 'cache_size': ...               0.686785   \n",
              "6   {'C': 1.0, 'average': False, 'class_weight': N...               0.672935   \n",
              "10  {'alpha': 1.0, 'binarize': 0.0, 'class_prior':...               0.505464   \n",
              "\n",
              "   MLA Test Accuracy 3*STD  MLA Time  \n",
              "4                 0.015573  0.308539  \n",
              "2                 0.018285  0.241554  \n",
              "3                 0.017137  1.388374  \n",
              "1                 0.023588   0.07448  \n",
              "16                0.028853  0.010627  \n",
              "20                0.013472   0.43402  \n",
              "17                 0.03414  0.004897  \n",
              "19                0.044567  0.010779  \n",
              "18                0.028681  0.015817  \n",
              "7                 0.027827  0.016934  \n",
              "11                0.043269  0.004272  \n",
              "5                 0.034814  0.109621  \n",
              "14                0.045394  1.277839  \n",
              "0                 0.072916  0.162362  \n",
              "12                0.036803  0.005059  \n",
              "8                 0.129931  0.060886  \n",
              "15                0.109137  0.492056  \n",
              "9                 0.179552  0.016724  \n",
              "13                0.057565  1.221922  \n",
              "6                 0.208261  0.021358  \n",
              "10                0.049842  0.004573  "
            ],
            "text/html": [
              "\n",
              "  <div id=\"df-7946b35a-c725-4fe9-9d32-207c75ef1989\">\n",
              "    <div class=\"colab-df-container\">\n",
              "      <div>\n",
              "<style scoped>\n",
              "    .dataframe tbody tr th:only-of-type {\n",
              "        vertical-align: middle;\n",
              "    }\n",
              "\n",
              "    .dataframe tbody tr th {\n",
              "        vertical-align: top;\n",
              "    }\n",
              "\n",
              "    .dataframe thead th {\n",
              "        text-align: right;\n",
              "    }\n",
              "</style>\n",
              "<table border=\"1\" class=\"dataframe\">\n",
              "  <thead>\n",
              "    <tr style=\"text-align: right;\">\n",
              "      <th></th>\n",
              "      <th>MLA Name</th>\n",
              "      <th>MLA Parameters</th>\n",
              "      <th>MLA Test Accuracy Mean</th>\n",
              "      <th>MLA Test Accuracy 3*STD</th>\n",
              "      <th>MLA Time</th>\n",
              "    </tr>\n",
              "  </thead>\n",
              "  <tbody>\n",
              "    <tr>\n",
              "      <th>4</th>\n",
              "      <td>RandomForestClassifier</td>\n",
              "      <td>{'bootstrap': True, 'ccp_alpha': 0.0, 'class_w...</td>\n",
              "      <td>0.98615</td>\n",
              "      <td>0.015573</td>\n",
              "      <td>0.308539</td>\n",
              "    </tr>\n",
              "    <tr>\n",
              "      <th>2</th>\n",
              "      <td>ExtraTreesClassifier</td>\n",
              "      <td>{'bootstrap': False, 'ccp_alpha': 0.0, 'class_...</td>\n",
              "      <td>0.985133</td>\n",
              "      <td>0.018285</td>\n",
              "      <td>0.241554</td>\n",
              "    </tr>\n",
              "    <tr>\n",
              "      <th>3</th>\n",
              "      <td>GradientBoostingClassifier</td>\n",
              "      <td>{'ccp_alpha': 0.0, 'criterion': 'friedman_mse'...</td>\n",
              "      <td>0.974968</td>\n",
              "      <td>0.017137</td>\n",
              "      <td>1.388374</td>\n",
              "    </tr>\n",
              "    <tr>\n",
              "      <th>1</th>\n",
              "      <td>BaggingClassifier</td>\n",
              "      <td>{'base_estimator': None, 'bootstrap': True, 'b...</td>\n",
              "      <td>0.972173</td>\n",
              "      <td>0.023588</td>\n",
              "      <td>0.07448</td>\n",
              "    </tr>\n",
              "    <tr>\n",
              "      <th>16</th>\n",
              "      <td>DecisionTreeClassifier</td>\n",
              "      <td>{'ccp_alpha': 0.0, 'class_weight': None, 'crit...</td>\n",
              "      <td>0.970648</td>\n",
              "      <td>0.028853</td>\n",
              "      <td>0.010627</td>\n",
              "    </tr>\n",
              "    <tr>\n",
              "      <th>20</th>\n",
              "      <td>XGBClassifier</td>\n",
              "      <td>{'base_score': 0.5, 'booster': 'gbtree', 'cols...</td>\n",
              "      <td>0.968361</td>\n",
              "      <td>0.013472</td>\n",
              "      <td>0.43402</td>\n",
              "    </tr>\n",
              "    <tr>\n",
              "      <th>17</th>\n",
              "      <td>ExtraTreeClassifier</td>\n",
              "      <td>{'ccp_alpha': 0.0, 'class_weight': None, 'crit...</td>\n",
              "      <td>0.931766</td>\n",
              "      <td>0.03414</td>\n",
              "      <td>0.004897</td>\n",
              "    </tr>\n",
              "    <tr>\n",
              "      <th>19</th>\n",
              "      <td>QuadraticDiscriminantAnalysis</td>\n",
              "      <td>{'priors': None, 'reg_param': 0.0, 'store_cova...</td>\n",
              "      <td>0.860356</td>\n",
              "      <td>0.044567</td>\n",
              "      <td>0.010779</td>\n",
              "    </tr>\n",
              "    <tr>\n",
              "      <th>18</th>\n",
              "      <td>LinearDiscriminantAnalysis</td>\n",
              "      <td>{'covariance_estimator': None, 'n_components':...</td>\n",
              "      <td>0.803431</td>\n",
              "      <td>0.028681</td>\n",
              "      <td>0.015817</td>\n",
              "    </tr>\n",
              "    <tr>\n",
              "      <th>7</th>\n",
              "      <td>RidgeClassifierCV</td>\n",
              "      <td>{'alphas': array([ 0.1,  1. , 10. ]), 'class_w...</td>\n",
              "      <td>0.802922</td>\n",
              "      <td>0.027827</td>\n",
              "      <td>0.016934</td>\n",
              "    </tr>\n",
              "    <tr>\n",
              "      <th>11</th>\n",
              "      <td>GaussianNB</td>\n",
              "      <td>{'priors': None, 'var_smoothing': 1e-09}</td>\n",
              "      <td>0.796188</td>\n",
              "      <td>0.043269</td>\n",
              "      <td>0.004272</td>\n",
              "    </tr>\n",
              "    <tr>\n",
              "      <th>5</th>\n",
              "      <td>LogisticRegression</td>\n",
              "      <td>{'C': 1.0, 'class_weight': None, 'dual': False...</td>\n",
              "      <td>0.786912</td>\n",
              "      <td>0.034814</td>\n",
              "      <td>0.109621</td>\n",
              "    </tr>\n",
              "    <tr>\n",
              "      <th>14</th>\n",
              "      <td>NuSVC</td>\n",
              "      <td>{'break_ties': False, 'cache_size': 200, 'clas...</td>\n",
              "      <td>0.785642</td>\n",
              "      <td>0.045394</td>\n",
              "      <td>1.277839</td>\n",
              "    </tr>\n",
              "    <tr>\n",
              "      <th>0</th>\n",
              "      <td>AdaBoostClassifier</td>\n",
              "      <td>{'algorithm': 'SAMME.R', 'base_estimator': Non...</td>\n",
              "      <td>0.771156</td>\n",
              "      <td>0.072916</td>\n",
              "      <td>0.162362</td>\n",
              "    </tr>\n",
              "    <tr>\n",
              "      <th>12</th>\n",
              "      <td>KNeighborsClassifier</td>\n",
              "      <td>{'algorithm': 'auto', 'leaf_size': 30, 'metric...</td>\n",
              "      <td>0.755146</td>\n",
              "      <td>0.036803</td>\n",
              "      <td>0.005059</td>\n",
              "    </tr>\n",
              "    <tr>\n",
              "      <th>8</th>\n",
              "      <td>SGDClassifier</td>\n",
              "      <td>{'alpha': 0.0001, 'average': False, 'class_wei...</td>\n",
              "      <td>0.728971</td>\n",
              "      <td>0.129931</td>\n",
              "      <td>0.060886</td>\n",
              "    </tr>\n",
              "    <tr>\n",
              "      <th>15</th>\n",
              "      <td>LinearSVC</td>\n",
              "      <td>{'C': 1.0, 'class_weight': None, 'dual': True,...</td>\n",
              "      <td>0.716773</td>\n",
              "      <td>0.109137</td>\n",
              "      <td>0.492056</td>\n",
              "    </tr>\n",
              "    <tr>\n",
              "      <th>9</th>\n",
              "      <td>Perceptron</td>\n",
              "      <td>{'alpha': 0.0001, 'class_weight': None, 'early...</td>\n",
              "      <td>0.686912</td>\n",
              "      <td>0.179552</td>\n",
              "      <td>0.016724</td>\n",
              "    </tr>\n",
              "    <tr>\n",
              "      <th>13</th>\n",
              "      <td>SVC</td>\n",
              "      <td>{'C': 1.0, 'break_ties': False, 'cache_size': ...</td>\n",
              "      <td>0.686785</td>\n",
              "      <td>0.057565</td>\n",
              "      <td>1.221922</td>\n",
              "    </tr>\n",
              "    <tr>\n",
              "      <th>6</th>\n",
              "      <td>PassiveAggressiveClassifier</td>\n",
              "      <td>{'C': 1.0, 'average': False, 'class_weight': N...</td>\n",
              "      <td>0.672935</td>\n",
              "      <td>0.208261</td>\n",
              "      <td>0.021358</td>\n",
              "    </tr>\n",
              "    <tr>\n",
              "      <th>10</th>\n",
              "      <td>BernoulliNB</td>\n",
              "      <td>{'alpha': 1.0, 'binarize': 0.0, 'class_prior':...</td>\n",
              "      <td>0.505464</td>\n",
              "      <td>0.049842</td>\n",
              "      <td>0.004573</td>\n",
              "    </tr>\n",
              "  </tbody>\n",
              "</table>\n",
              "</div>\n",
              "      <button class=\"colab-df-convert\" onclick=\"convertToInteractive('df-7946b35a-c725-4fe9-9d32-207c75ef1989')\"\n",
              "              title=\"Convert this dataframe to an interactive table.\"\n",
              "              style=\"display:none;\">\n",
              "        \n",
              "  <svg xmlns=\"http://www.w3.org/2000/svg\" height=\"24px\"viewBox=\"0 0 24 24\"\n",
              "       width=\"24px\">\n",
              "    <path d=\"M0 0h24v24H0V0z\" fill=\"none\"/>\n",
              "    <path d=\"M18.56 5.44l.94 2.06.94-2.06 2.06-.94-2.06-.94-.94-2.06-.94 2.06-2.06.94zm-11 1L8.5 8.5l.94-2.06 2.06-.94-2.06-.94L8.5 2.5l-.94 2.06-2.06.94zm10 10l.94 2.06.94-2.06 2.06-.94-2.06-.94-.94-2.06-.94 2.06-2.06.94z\"/><path d=\"M17.41 7.96l-1.37-1.37c-.4-.4-.92-.59-1.43-.59-.52 0-1.04.2-1.43.59L10.3 9.45l-7.72 7.72c-.78.78-.78 2.05 0 2.83L4 21.41c.39.39.9.59 1.41.59.51 0 1.02-.2 1.41-.59l7.78-7.78 2.81-2.81c.8-.78.8-2.07 0-2.86zM5.41 20L4 18.59l7.72-7.72 1.47 1.35L5.41 20z\"/>\n",
              "  </svg>\n",
              "      </button>\n",
              "      \n",
              "  <style>\n",
              "    .colab-df-container {\n",
              "      display:flex;\n",
              "      flex-wrap:wrap;\n",
              "      gap: 12px;\n",
              "    }\n",
              "\n",
              "    .colab-df-convert {\n",
              "      background-color: #E8F0FE;\n",
              "      border: none;\n",
              "      border-radius: 50%;\n",
              "      cursor: pointer;\n",
              "      display: none;\n",
              "      fill: #1967D2;\n",
              "      height: 32px;\n",
              "      padding: 0 0 0 0;\n",
              "      width: 32px;\n",
              "    }\n",
              "\n",
              "    .colab-df-convert:hover {\n",
              "      background-color: #E2EBFA;\n",
              "      box-shadow: 0px 1px 2px rgba(60, 64, 67, 0.3), 0px 1px 3px 1px rgba(60, 64, 67, 0.15);\n",
              "      fill: #174EA6;\n",
              "    }\n",
              "\n",
              "    [theme=dark] .colab-df-convert {\n",
              "      background-color: #3B4455;\n",
              "      fill: #D2E3FC;\n",
              "    }\n",
              "\n",
              "    [theme=dark] .colab-df-convert:hover {\n",
              "      background-color: #434B5C;\n",
              "      box-shadow: 0px 1px 3px 1px rgba(0, 0, 0, 0.15);\n",
              "      filter: drop-shadow(0px 1px 2px rgba(0, 0, 0, 0.3));\n",
              "      fill: #FFFFFF;\n",
              "    }\n",
              "  </style>\n",
              "\n",
              "      <script>\n",
              "        const buttonEl =\n",
              "          document.querySelector('#df-7946b35a-c725-4fe9-9d32-207c75ef1989 button.colab-df-convert');\n",
              "        buttonEl.style.display =\n",
              "          google.colab.kernel.accessAllowed ? 'block' : 'none';\n",
              "\n",
              "        async function convertToInteractive(key) {\n",
              "          const element = document.querySelector('#df-7946b35a-c725-4fe9-9d32-207c75ef1989');\n",
              "          const dataTable =\n",
              "            await google.colab.kernel.invokeFunction('convertToInteractive',\n",
              "                                                     [key], {});\n",
              "          if (!dataTable) return;\n",
              "\n",
              "          const docLinkHtml = 'Like what you see? Visit the ' +\n",
              "            '<a target=\"_blank\" href=https://colab.research.google.com/notebooks/data_table.ipynb>data table notebook</a>'\n",
              "            + ' to learn more about interactive tables.';\n",
              "          element.innerHTML = '';\n",
              "          dataTable['output_type'] = 'display_data';\n",
              "          await google.colab.output.renderOutput(dataTable, element);\n",
              "          const docLink = document.createElement('div');\n",
              "          docLink.innerHTML = docLinkHtml;\n",
              "          element.appendChild(docLink);\n",
              "        }\n",
              "      </script>\n",
              "    </div>\n",
              "  </div>\n",
              "  "
            ]
          },
          "metadata": {},
          "execution_count": 87
        }
      ]
    },
    {
      "cell_type": "markdown",
      "source": [
        "## Model training with all features\n",
        "* By passing all features columns as X and performance rating (Target variable as Y).\n",
        "* For Test data, model is getting `Accuracy score : 98%`.\n",
        "\n",
        "While passing all feature, model is getting `98% accuracy`, Model might be overfitting & it will increases the complexity of model. So, we will pass selected features by applying feature selection technique."
      ],
      "metadata": {
        "id": "PULW0JDYy4gm"
      }
    },
    {
      "cell_type": "code",
      "source": [
        "X = data.drop('Performance Rating', axis=1)\n",
        "y = data['Performance Rating']"
      ],
      "metadata": {
        "id": "cPbdOn7qCXLy"
      },
      "execution_count": 93,
      "outputs": []
    },
    {
      "cell_type": "code",
      "source": [
        "train = X.loc[:,['Employee Last Salary Hike Percent','Employee Environment Satisfaction',\n",
        "                       'Experience Years At This Company','Experience Years In Current Role','Years Since Last Promotion']]\n",
        "test = y"
      ],
      "metadata": {
        "id": "Gwavy8eY05tJ"
      },
      "execution_count": 94,
      "outputs": []
    },
    {
      "cell_type": "markdown",
      "source": [
        "# Spliting the dataset for training and test purpose"
      ],
      "metadata": {
        "id": "oHUGsfSA1BEl"
      }
    },
    {
      "cell_type": "code",
      "source": [
        "X_train,X_test,y_train,y_test = train_test_split(train,test,random_state=42,test_size=0.30)"
      ],
      "metadata": {
        "id": "-jb3vak5qi_u"
      },
      "execution_count": 95,
      "outputs": []
    },
    {
      "cell_type": "code",
      "source": [
        "len(train), len(test)"
      ],
      "metadata": {
        "colab": {
          "base_uri": "https://localhost:8080/"
        },
        "id": "yUvulKBq5BAp",
        "outputId": "9ddd1d5e-e85c-456a-af26-987a9ebfb744"
      },
      "execution_count": 96,
      "outputs": [
        {
          "output_type": "execute_result",
          "data": {
            "text/plain": [
              "(2622, 2622)"
            ]
          },
          "metadata": {},
          "execution_count": 96
        }
      ]
    },
    {
      "cell_type": "markdown",
      "source": [
        "# Machine Learning Algorithms"
      ],
      "metadata": {
        "id": "thyYx9_zCm7R"
      }
    },
    {
      "cell_type": "markdown",
      "source": [
        "## ExtraTreeClassifier"
      ],
      "metadata": {
        "id": "rYbNExh05D7k"
      }
    },
    {
      "cell_type": "code",
      "source": [
        "# Initilize model\n",
        "ext_clf = ExtraTreesClassifier() # random forest with default parameters\n",
        "ext_clf.fit(X_train,y_train)\n",
        "y_predict = ext_clf.predict(X_test)\n",
        "y_train.value_counts()"
      ],
      "metadata": {
        "colab": {
          "base_uri": "https://localhost:8080/"
        },
        "id": "GIOUzKr7Cty5",
        "outputId": "09c5a9b7-570f-4cfc-f0aa-4aa58d9e0ed5"
      },
      "execution_count": 97,
      "outputs": [
        {
          "output_type": "execute_result",
          "data": {
            "text/plain": [
              "3    624\n",
              "4    615\n",
              "2    596\n",
              "Name: Performance Rating, dtype: int64"
            ]
          },
          "metadata": {},
          "execution_count": 97
        }
      ]
    },
    {
      "cell_type": "code",
      "source": [
        "print(f\"\\033[1mTest accuracy_score : {round(accuracy_score(y_test,y_predict)*100,2)} %\\n\")\n",
        "print(\"Test Classification Report\\n\")\n",
        "print(classification_report(y_test,y_predict))"
      ],
      "metadata": {
        "colab": {
          "base_uri": "https://localhost:8080/"
        },
        "id": "NY_3NejkCwkx",
        "outputId": "2a380786-bb46-466c-a175-cc46a054dd2f"
      },
      "execution_count": 98,
      "outputs": [
        {
          "output_type": "stream",
          "name": "stdout",
          "text": [
            "\u001b[1mTest accuracy_score : 95.81 %\n",
            "\n",
            "Test Classification Report\n",
            "\n",
            "              precision    recall  f1-score   support\n",
            "\n",
            "           2       0.93      0.99      0.96       278\n",
            "           3       0.98      0.88      0.93       250\n",
            "           4       0.97      1.00      0.98       259\n",
            "\n",
            "    accuracy                           0.96       787\n",
            "   macro avg       0.96      0.96      0.96       787\n",
            "weighted avg       0.96      0.96      0.96       787\n",
            "\n"
          ]
        }
      ]
    },
    {
      "cell_type": "markdown",
      "source": [
        "### Checking train accuracy to observe overfitting"
      ],
      "metadata": {
        "id": "K58-Emd8DJlI"
      }
    },
    {
      "cell_type": "code",
      "source": [
        "train_predict = ext_clf.predict(X_train)\n",
        "print(f\"\\033[1mTrain accuracy_score : {round(accuracy_score(y_train,train_predict)*100,2)} %\\n\")\n",
        "print(\"Train Classification Report\\n\")\n",
        "print(classification_report(y_train,train_predict))"
      ],
      "metadata": {
        "colab": {
          "base_uri": "https://localhost:8080/"
        },
        "id": "obHgBhovC-Si",
        "outputId": "04411c83-a02d-4b5b-a277-2884a8acd703"
      },
      "execution_count": 99,
      "outputs": [
        {
          "output_type": "stream",
          "name": "stdout",
          "text": [
            "\u001b[1mTrain accuracy_score : 98.69 %\n",
            "\n",
            "Train Classification Report\n",
            "\n",
            "              precision    recall  f1-score   support\n",
            "\n",
            "           2       0.98      1.00      0.99       596\n",
            "           3       0.99      0.97      0.98       624\n",
            "           4       0.99      1.00      0.99       615\n",
            "\n",
            "    accuracy                           0.99      1835\n",
            "   macro avg       0.99      0.99      0.99      1835\n",
            "weighted avg       0.99      0.99      0.99      1835\n",
            "\n"
          ]
        }
      ]
    },
    {
      "cell_type": "markdown",
      "source": [
        "Here, difference between train accuracy and test accuracy is `least`. So we can say that the model is `not overfitted`."
      ],
      "metadata": {
        "id": "-TBH4HuCDnTl"
      }
    },
    {
      "cell_type": "markdown",
      "source": [
        "## Evaluation"
      ],
      "metadata": {
        "id": "USVtmVovHcV4"
      }
    },
    {
      "cell_type": "code",
      "source": [
        "print(f\"\\033[1mTest accuracy_score : {round(accuracy_score(y_test,y_predict)*100,2)} %\\n\")\n",
        "print(\"Train Classification Report\\n\")\n",
        "print(classification_report(y_test,y_predict))"
      ],
      "metadata": {
        "colab": {
          "base_uri": "https://localhost:8080/"
        },
        "id": "yGCdwt6tDary",
        "outputId": "9785a078-f868-4f42-e7c0-37ba0856be79"
      },
      "execution_count": 100,
      "outputs": [
        {
          "output_type": "stream",
          "name": "stdout",
          "text": [
            "\u001b[1mTest accuracy_score : 95.81 %\n",
            "\n",
            "Train Classification Report\n",
            "\n",
            "              precision    recall  f1-score   support\n",
            "\n",
            "           2       0.93      0.99      0.96       278\n",
            "           3       0.98      0.88      0.93       250\n",
            "           4       0.97      1.00      0.98       259\n",
            "\n",
            "    accuracy                           0.96       787\n",
            "   macro avg       0.96      0.96      0.96       787\n",
            "weighted avg       0.96      0.96      0.96       787\n",
            "\n"
          ]
        }
      ]
    },
    {
      "cell_type": "markdown",
      "source": [
        "## RandomForestClassifier"
      ],
      "metadata": {
        "id": "DJ52RPRzH8qc"
      }
    },
    {
      "cell_type": "code",
      "source": [
        "# Initilize model\n",
        "rf = RandomForestClassifier() # random forest with default parameters\n",
        "rf.fit(X_train,y_train)\n",
        "y_predict = rf.predict(X_test)\n",
        "y_train.value_counts()"
      ],
      "metadata": {
        "colab": {
          "base_uri": "https://localhost:8080/"
        },
        "id": "2v0Lfr-wHg-A",
        "outputId": "b2e74594-4324-42d3-8cb1-40ef6e9c69d0"
      },
      "execution_count": 103,
      "outputs": [
        {
          "output_type": "execute_result",
          "data": {
            "text/plain": [
              "3    624\n",
              "4    615\n",
              "2    596\n",
              "Name: Performance Rating, dtype: int64"
            ]
          },
          "metadata": {},
          "execution_count": 103
        }
      ]
    },
    {
      "cell_type": "markdown",
      "source": [
        "### Evaluation"
      ],
      "metadata": {
        "id": "yNh60Uk_IFgF"
      }
    },
    {
      "cell_type": "code",
      "source": [
        "print(f\"\\033[1mTest accuracy_score : {round(accuracy_score(y_test,y_predict)*100,2)} %\\n\")\n",
        "print(\"Train Classification Report\\n\")\n",
        "print(classification_report(y_test,y_predict))"
      ],
      "metadata": {
        "colab": {
          "base_uri": "https://localhost:8080/"
        },
        "id": "q3-LDgGwHm8O",
        "outputId": "1a114842-1ed1-4144-d39b-25c696a7d79f"
      },
      "execution_count": 104,
      "outputs": [
        {
          "output_type": "stream",
          "name": "stdout",
          "text": [
            "\u001b[1mTest accuracy_score : 95.43 %\n",
            "\n",
            "Train Classification Report\n",
            "\n",
            "              precision    recall  f1-score   support\n",
            "\n",
            "           2       0.93      0.99      0.96       278\n",
            "           3       0.98      0.87      0.92       250\n",
            "           4       0.96      1.00      0.98       259\n",
            "\n",
            "    accuracy                           0.95       787\n",
            "   macro avg       0.96      0.95      0.95       787\n",
            "weighted avg       0.96      0.95      0.95       787\n",
            "\n"
          ]
        }
      ]
    },
    {
      "cell_type": "code",
      "source": [
        "train_predict = rf.predict(X_train)\n",
        "print(f\"\\033[1mTrain accuracy_score : {round(accuracy_score(y_train,train_predict)*100,2)} %\\n\")\n",
        "print(\"Train Classification Report\\n\")\n",
        "print(classification_report(y_train,train_predict))"
      ],
      "metadata": {
        "colab": {
          "base_uri": "https://localhost:8080/"
        },
        "id": "xTlCq_EMIISe",
        "outputId": "dea38de8-ad58-4210-a501-87a43390fb7d"
      },
      "execution_count": 105,
      "outputs": [
        {
          "output_type": "stream",
          "name": "stdout",
          "text": [
            "\u001b[1mTrain accuracy_score : 98.69 %\n",
            "\n",
            "Train Classification Report\n",
            "\n",
            "              precision    recall  f1-score   support\n",
            "\n",
            "           2       0.98      1.00      0.99       596\n",
            "           3       0.99      0.97      0.98       624\n",
            "           4       0.99      1.00      0.99       615\n",
            "\n",
            "    accuracy                           0.99      1835\n",
            "   macro avg       0.99      0.99      0.99      1835\n",
            "weighted avg       0.99      0.99      0.99      1835\n",
            "\n"
          ]
        }
      ]
    },
    {
      "cell_type": "markdown",
      "source": [
        "* Here, difference between train accuracy & test accuracy is `least`. SO we can say that nidek is `not overfitted`.\n",
        "* The accuracy of `RandomForestClassifier model` is `less` compared to `ExtraTreeClassifier model`, So we should focus on `ExtraTreeClassifier model`."
      ],
      "metadata": {
        "id": "ZDzrk0G8IPNp"
      }
    },
    {
      "cell_type": "code",
      "source": [],
      "metadata": {
        "id": "QSKblVSiILFM"
      },
      "execution_count": null,
      "outputs": []
    }
  ]
}